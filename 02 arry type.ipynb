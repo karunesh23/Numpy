{
 "cells": [
  {
   "cell_type": "code",
   "execution_count": 1,
   "id": "3218601c-cb24-4878-b8d4-0d192a86a9f8",
   "metadata": {},
   "outputs": [],
   "source": [
    "# oltp and olap 2. database and warehouse difference"
   ]
  },
  {
   "cell_type": "code",
   "execution_count": 1,
   "id": "bebc3da6-372b-471e-a37a-1065d7b40447",
   "metadata": {},
   "outputs": [],
   "source": [
    "import numpy as np"
   ]
  },
  {
   "cell_type": "code",
   "execution_count": 4,
   "id": "b2bc22b1-7532-4bdc-a6b6-ee3639a65912",
   "metadata": {},
   "outputs": [],
   "source": [
    "arr = np.array(range(25))"
   ]
  },
  {
   "cell_type": "code",
   "execution_count": 5,
   "id": "e1f62c07-7f46-4df9-903d-172d590b38a4",
   "metadata": {},
   "outputs": [
    {
     "data": {
      "text/plain": [
       "array([[ 0,  1,  2,  3,  4],\n",
       "       [ 5,  6,  7,  8,  9],\n",
       "       [10, 11, 12, 13, 14],\n",
       "       [15, 16, 17, 18, 19],\n",
       "       [20, 21, 22, 23, 24]])"
      ]
     },
     "execution_count": 5,
     "metadata": {},
     "output_type": "execute_result"
    }
   ],
   "source": [
    "arr.reshape(5,5)"
   ]
  },
  {
   "cell_type": "code",
   "execution_count": 6,
   "id": "14923d3e-212c-4844-83a5-9c71ab383d7a",
   "metadata": {},
   "outputs": [],
   "source": [
    "arr = np.array(range(24))"
   ]
  },
  {
   "cell_type": "code",
   "execution_count": 10,
   "id": "5cf53dce-933f-47db-b776-538c65d3df06",
   "metadata": {},
   "outputs": [],
   "source": [
    "arr = arr.reshape(2,3,4)"
   ]
  },
  {
   "cell_type": "code",
   "execution_count": 11,
   "id": "079fb28d-8526-41a8-97c2-6e7736aaa74b",
   "metadata": {},
   "outputs": [
    {
     "data": {
      "text/plain": [
       "3"
      ]
     },
     "execution_count": 11,
     "metadata": {},
     "output_type": "execute_result"
    }
   ],
   "source": [
    "arr.ndim"
   ]
  },
  {
   "cell_type": "code",
   "execution_count": 12,
   "id": "8c702ad9-8270-4329-ba52-2a4de76e595f",
   "metadata": {},
   "outputs": [
    {
     "data": {
      "text/plain": [
       "array([[[ 0,  1,  2,  3],\n",
       "        [ 4,  5,  6,  7],\n",
       "        [ 8,  9, 10, 11]],\n",
       "\n",
       "       [[12, 13, 14, 15],\n",
       "        [16, 17, 18, 19],\n",
       "        [20, 21, 22, 23]]])"
      ]
     },
     "execution_count": 12,
     "metadata": {},
     "output_type": "execute_result"
    }
   ],
   "source": [
    "arr"
   ]
  },
  {
   "cell_type": "markdown",
   "id": "a119c899-62f6-4109-98bc-e10acabba990",
   "metadata": {},
   "source": [
    "### Arange genrates a array with numbers in a range"
   ]
  },
  {
   "cell_type": "code",
   "execution_count": 15,
   "id": "54c5c4d1-32d4-4339-86f0-3219798f3d9c",
   "metadata": {},
   "outputs": [],
   "source": [
    "arr = np.arange(2, 24, 3)"
   ]
  },
  {
   "cell_type": "code",
   "execution_count": 14,
   "id": "f14de00f-3969-4407-ac50-6e2c8c3145ca",
   "metadata": {},
   "outputs": [],
   "source": [
    "# jitne input denge utni dimension bdegi"
   ]
  },
  {
   "cell_type": "code",
   "execution_count": 16,
   "id": "195950be-387d-4c0e-8940-3f5441258706",
   "metadata": {},
   "outputs": [
    {
     "data": {
      "text/plain": [
       "array([ 2,  5,  8, 11, 14, 17, 20, 23])"
      ]
     },
     "execution_count": 16,
     "metadata": {},
     "output_type": "execute_result"
    }
   ],
   "source": [
    "arr.reshape(-1)"
   ]
  },
  {
   "cell_type": "markdown",
   "id": "fdffb957-d7da-41ad-9d23-f5d2d4cef868",
   "metadata": {},
   "source": [
    "### genrates numbers linearly spaced from starting index including index"
   ]
  },
  {
   "cell_type": "code",
   "execution_count": 18,
   "id": "277d2346-a618-48d7-9e71-9db92d1a4197",
   "metadata": {},
   "outputs": [
    {
     "data": {
      "text/plain": [
       "array([ 1.  ,  3.25,  5.5 ,  7.75, 10.  ])"
      ]
     },
     "execution_count": 18,
     "metadata": {},
     "output_type": "execute_result"
    }
   ],
   "source": [
    "np.linspace(1, 10, 5)"
   ]
  },
  {
   "cell_type": "markdown",
   "id": "807d821a-c6cd-4e3e-b4bf-babe1d9853a5",
   "metadata": {},
   "source": [
    "### random functions"
   ]
  },
  {
   "cell_type": "markdown",
   "id": "26932a05-48b5-409c-9b9b-f473dc163a33",
   "metadata": {},
   "source": [
    "#### genrates array random numbers from uniform distribution between 0 and 1"
   ]
  },
  {
   "cell_type": "code",
   "execution_count": 19,
   "id": "bb74f979-da6d-47df-a39c-289a07186133",
   "metadata": {},
   "outputs": [
    {
     "data": {
      "text/plain": [
       "array([0.73851724, 0.07628979, 0.74095887, 0.81559533, 0.64392708])"
      ]
     },
     "execution_count": 19,
     "metadata": {},
     "output_type": "execute_result"
    }
   ],
   "source": [
    "np.random.rand(5)"
   ]
  },
  {
   "cell_type": "code",
   "execution_count": 20,
   "id": "fb8db507-12ce-4f77-babc-c75d12f55744",
   "metadata": {
    "scrolled": true
   },
   "outputs": [
    {
     "data": {
      "text/plain": [
       "array([[0.53783623, 0.65238797, 0.93340512],\n",
       "       [0.93248489, 0.70690851, 0.80499733],\n",
       "       [0.27891905, 0.76589553, 0.36776875],\n",
       "       [0.22026568, 0.52624473, 0.86201434],\n",
       "       [0.56351052, 0.77967888, 0.94882043]])"
      ]
     },
     "execution_count": 20,
     "metadata": {},
     "output_type": "execute_result"
    }
   ],
   "source": [
    "np.random.rand(5,3)"
   ]
  },
  {
   "cell_type": "markdown",
   "id": "4e28951a-0c78-48ba-ab09-ebd182016d61",
   "metadata": {},
   "source": [
    "### normal distribution with center as 0"
   ]
  },
  {
   "cell_type": "code",
   "execution_count": 24,
   "id": "02d49d7e-48f3-4215-8f62-3033e0462d5a",
   "metadata": {},
   "outputs": [
    {
     "data": {
      "text/plain": [
       "array([-0.06001478, -2.26312732,  0.12944542, -1.99657343,  0.26553655])"
      ]
     },
     "execution_count": 24,
     "metadata": {},
     "output_type": "execute_result"
    }
   ],
   "source": [
    "np.random.randn(5)"
   ]
  },
  {
   "cell_type": "code",
   "execution_count": 25,
   "id": "03cd7595-3402-411a-9320-e70ab3179fb9",
   "metadata": {},
   "outputs": [
    {
     "data": {
      "text/plain": [
       "array([[-0.08722481,  0.42281719,  0.12548047, -0.14444209, -1.02982839],\n",
       "       [-0.51062681,  0.95540411, -0.08183409,  0.63294128, -1.45048288],\n",
       "       [-0.94308747, -0.04354084,  1.37357667, -0.79067123, -0.04869746],\n",
       "       [ 1.79609832, -0.37007384, -0.55168274,  0.00976054,  0.76564527],\n",
       "       [ 0.27374724, -0.40054657,  0.32757859, -0.30042469,  0.80256166]])"
      ]
     },
     "execution_count": 25,
     "metadata": {},
     "output_type": "execute_result"
    }
   ],
   "source": [
    "np.random.randn(5,5)"
   ]
  },
  {
   "cell_type": "markdown",
   "id": "3b5add3e-274c-432b-b7be-e00a987c1bae",
   "metadata": {},
   "source": [
    "### genrates array of random numbers between starting and ending"
   ]
  },
  {
   "cell_type": "code",
   "execution_count": 40,
   "id": "e36f15fa-bf53-4633-bbaa-3ebc8ef8df58",
   "metadata": {},
   "outputs": [],
   "source": [
    "arr = np.random.randint(0,50, (3,6)) # 2,2 is used for array 2 rows 2 columns"
   ]
  },
  {
   "cell_type": "code",
   "execution_count": 41,
   "id": "5da71dea-0e9d-4415-8e6e-792837aab2a7",
   "metadata": {},
   "outputs": [
    {
     "data": {
      "text/plain": [
       "array([[48, 37, 23,  0, 24, 29],\n",
       "       [11, 17, 43, 10, 13, 48],\n",
       "       [11,  1, 19, 12, 18, 37]], dtype=int32)"
      ]
     },
     "execution_count": 41,
     "metadata": {},
     "output_type": "execute_result"
    }
   ],
   "source": [
    "arr"
   ]
  },
  {
   "cell_type": "code",
   "execution_count": 42,
   "id": "51e02240-3572-45cf-9e5d-31c64638eed7",
   "metadata": {},
   "outputs": [
    {
     "data": {
      "text/plain": [
       "array([48, 37, 23,  0, 24, 29, 11, 17, 43, 10, 13, 48, 11,  1, 19, 12, 18,\n",
       "       37], dtype=int32)"
      ]
     },
     "execution_count": 42,
     "metadata": {},
     "output_type": "execute_result"
    }
   ],
   "source": [
    "arr.reshape(-1)"
   ]
  },
  {
   "cell_type": "code",
   "execution_count": 44,
   "id": "89a5dba2-93f4-438b-918e-10c5c72c5be3",
   "metadata": {},
   "outputs": [
    {
     "data": {
      "text/plain": [
       "array([48, 37, 23,  0, 24, 29, 11, 17, 43, 10, 13, 48, 11,  1, 19, 12, 18,\n",
       "       37], dtype=int32)"
      ]
     },
     "execution_count": 44,
     "metadata": {},
     "output_type": "execute_result"
    }
   ],
   "source": [
    "arr.flatten()"
   ]
  },
  {
   "cell_type": "code",
   "execution_count": 45,
   "id": "f4c90a55-6416-4d01-911e-373072b9b2ae",
   "metadata": {},
   "outputs": [
    {
     "data": {
      "text/plain": [
       "array([48, 11, 11, 37, 17,  1, 23, 43, 19,  0, 10, 12, 24, 13, 18, 29, 48,\n",
       "       37], dtype=int32)"
      ]
     },
     "execution_count": 45,
     "metadata": {},
     "output_type": "execute_result"
    }
   ],
   "source": [
    "arr.flatten(order = 'F')"
   ]
  },
  {
   "cell_type": "code",
   "execution_count": 46,
   "id": "b86c26a6-179a-4d5d-aef0-e39716ce4783",
   "metadata": {},
   "outputs": [
    {
     "name": "stdout",
     "output_type": "stream",
     "text": [
      "Help on built-in function flatten:\n",
      "\n",
      "flatten(...) method of numpy.ndarray instance\n",
      "    a.flatten(order='C')\n",
      "\n",
      "    Return a copy of the array collapsed into one dimension.\n",
      "\n",
      "    Parameters\n",
      "    ----------\n",
      "    order : {'C', 'F', 'A', 'K'}, optional\n",
      "        'C' means to flatten in row-major (C-style) order.\n",
      "        'F' means to flatten in column-major (Fortran-\n",
      "        style) order. 'A' means to flatten in column-major\n",
      "        order if `a` is Fortran *contiguous* in memory,\n",
      "        row-major order otherwise. 'K' means to flatten\n",
      "        `a` in the order the elements occur in memory.\n",
      "        The default is 'C'.\n",
      "\n",
      "    Returns\n",
      "    -------\n",
      "    y : ndarray\n",
      "        A copy of the input array, flattened to one dimension.\n",
      "\n",
      "    See Also\n",
      "    --------\n",
      "    ravel : Return a flattened array.\n",
      "    flat : A 1-D flat iterator over the array.\n",
      "\n",
      "    Examples\n",
      "    --------\n",
      "    >>> import numpy as np\n",
      "    >>> a = np.array([[1,2], [3,4]])\n",
      "    >>> a.flatten()\n",
      "    array([1, 2, 3, 4])\n",
      "    >>> a.flatten('F')\n",
      "    array([1, 3, 2, 4])\n",
      "\n"
     ]
    }
   ],
   "source": [
    "help(arr.flatten)"
   ]
  },
  {
   "cell_type": "code",
   "execution_count": 49,
   "id": "08f21bfe-1d65-4c18-9741-e7248102488f",
   "metadata": {},
   "outputs": [
    {
     "data": {
      "text/plain": [
       "array([48, 37, 23,  0, 24, 29, 11, 17, 43, 10, 13, 48, 11,  1, 19, 12, 18,\n",
       "       37], dtype=int32)"
      ]
     },
     "execution_count": 49,
     "metadata": {},
     "output_type": "execute_result"
    }
   ],
   "source": [
    "arr.flatten(order= 'a')"
   ]
  },
  {
   "cell_type": "code",
   "execution_count": 50,
   "id": "9b9cbfe0-c1db-4b22-b520-43603238d46c",
   "metadata": {},
   "outputs": [
    {
     "data": {
      "text/plain": [
       "array([48, 37, 23,  0, 24, 29, 11, 17, 43, 10, 13, 48, 11,  1, 19, 12, 18,\n",
       "       37], dtype=int32)"
      ]
     },
     "execution_count": 50,
     "metadata": {},
     "output_type": "execute_result"
    }
   ],
   "source": [
    "arr.flatten(order= 'A')"
   ]
  },
  {
   "cell_type": "code",
   "execution_count": 51,
   "id": "d7619474-4f38-4da2-88f0-ca2e26cc59c4",
   "metadata": {},
   "outputs": [
    {
     "data": {
      "text/plain": [
       "array([48, 37, 23,  0, 24, 29, 11, 17, 43, 10, 13, 48, 11,  1, 19, 12, 18,\n",
       "       37], dtype=int32)"
      ]
     },
     "execution_count": 51,
     "metadata": {},
     "output_type": "execute_result"
    }
   ],
   "source": [
    "arr.flatten(order= 'K')"
   ]
  },
  {
   "cell_type": "code",
   "execution_count": 52,
   "id": "8c661ebc-7289-4c40-bf3a-af8b07c7cba1",
   "metadata": {},
   "outputs": [
    {
     "data": {
      "text/plain": [
       "array([[48, 37, 23,  0, 24, 29],\n",
       "       [11, 17, 43, 10, 13, 48],\n",
       "       [11,  1, 19, 12, 18, 37]], dtype=int32)"
      ]
     },
     "execution_count": 52,
     "metadata": {},
     "output_type": "execute_result"
    }
   ],
   "source": [
    "arr"
   ]
  },
  {
   "cell_type": "markdown",
   "id": "0ebe1d4e-6ce6-4be0-8cbd-235924a29ea9",
   "metadata": {},
   "source": [
    "### Matrix arrangement of data in reactangular form"
   ]
  },
  {
   "cell_type": "markdown",
   "id": "005a4da4-162a-4e50-b34a-27bf8ecce603",
   "metadata": {},
   "source": [
    "#### rectangular matrix"
   ]
  },
  {
   "cell_type": "code",
   "execution_count": 54,
   "id": "c7fa1a5c-37ad-4649-9573-7fdf9f4b098e",
   "metadata": {},
   "outputs": [
    {
     "data": {
      "text/plain": [
       "array([[70, 29, 39],\n",
       "       [73, 91, 77],\n",
       "       [90, 89, 27],\n",
       "       [88, 99, 50],\n",
       "       [74, 56, 49]], dtype=int32)"
      ]
     },
     "execution_count": 54,
     "metadata": {},
     "output_type": "execute_result"
    }
   ],
   "source": [
    "np.random.randint(0,100, (5,3))"
   ]
  },
  {
   "cell_type": "markdown",
   "id": "d8c0ceb1-133d-40ce-9e2e-1de881f1d936",
   "metadata": {},
   "source": [
    "#### Square matrix"
   ]
  },
  {
   "cell_type": "code",
   "execution_count": 55,
   "id": "6884b219-0d15-481b-b4fe-accf262ab596",
   "metadata": {},
   "outputs": [
    {
     "data": {
      "text/plain": [
       "array([[57, 27, 32],\n",
       "       [35, 62, 27],\n",
       "       [81, 70, 61]], dtype=int32)"
      ]
     },
     "execution_count": 55,
     "metadata": {},
     "output_type": "execute_result"
    }
   ],
   "source": [
    "np.random.randint(0,100, (3,3))"
   ]
  },
  {
   "cell_type": "markdown",
   "id": "67915a36-1016-4f1d-8fb1-20c8436afe5a",
   "metadata": {},
   "source": [
    "### Triangle matrix"
   ]
  },
  {
   "cell_type": "markdown",
   "id": "2f2253f3-8029-40a4-829b-2f9a53b321a0",
   "metadata": {},
   "source": [
    "#### Upper triangle matrix"
   ]
  },
  {
   "cell_type": "code",
   "execution_count": 59,
   "id": "2bb7baf8-1461-41f3-9aad-0c08c827ed4d",
   "metadata": {},
   "outputs": [
    {
     "data": {
      "text/plain": [
       "array([[1, 2, 3],\n",
       "       [0, 5, 6],\n",
       "       [0, 0, 9]])"
      ]
     },
     "execution_count": 59,
     "metadata": {},
     "output_type": "execute_result"
    }
   ],
   "source": [
    "np.array([\n",
    "    [1,2,3],\n",
    "    [0,5,6],\n",
    "    [0,0,9]\n",
    "])"
   ]
  },
  {
   "cell_type": "markdown",
   "id": "d376381d-3f7b-4907-af42-6923bf1d2d78",
   "metadata": {},
   "source": [
    "#### lower triangle matrix"
   ]
  },
  {
   "cell_type": "code",
   "execution_count": 58,
   "id": "ce97c679-e2fd-404e-a65b-4719e1ea4423",
   "metadata": {},
   "outputs": [
    {
     "data": {
      "text/plain": [
       "array([[1, 0, 0],\n",
       "       [2, 3, 0],\n",
       "       [4, 5, 6]])"
      ]
     },
     "execution_count": 58,
     "metadata": {},
     "output_type": "execute_result"
    }
   ],
   "source": [
    "np.array([\n",
    "    [1,0,0],\n",
    "    [2,3,0],\n",
    "    [4,5,6]\n",
    "])"
   ]
  },
  {
   "cell_type": "markdown",
   "id": "bb5893cf-1a58-4d37-bf5e-e31f91c0a06a",
   "metadata": {},
   "source": [
    "### diagonal matrix"
   ]
  },
  {
   "cell_type": "code",
   "execution_count": 60,
   "id": "55c95f13-5ea1-4f2b-b3ec-5fb05f5c6f24",
   "metadata": {},
   "outputs": [
    {
     "data": {
      "text/plain": [
       "array([[1, 0, 0],\n",
       "       [0, 2, 0],\n",
       "       [0, 0, 3]])"
      ]
     },
     "execution_count": 60,
     "metadata": {},
     "output_type": "execute_result"
    }
   ],
   "source": [
    "np.array([\n",
    "    [1,0,0],\n",
    "    [0,2,0],\n",
    "    [0,0,3]\n",
    "])"
   ]
  },
  {
   "cell_type": "markdown",
   "id": "14a50a9a-d37f-422f-82ff-42872d842df3",
   "metadata": {},
   "source": [
    "### Transpose of a matrix"
   ]
  },
  {
   "cell_type": "code",
   "execution_count": 63,
   "id": "82a550a5-76e4-42fe-b2c4-9aae9dbeeac5",
   "metadata": {},
   "outputs": [],
   "source": [
    "arr = np.random.randint(0,100, (3,3))"
   ]
  },
  {
   "cell_type": "code",
   "execution_count": 64,
   "id": "297fc3d5-2c15-4042-833f-f431d839185e",
   "metadata": {},
   "outputs": [
    {
     "data": {
      "text/plain": [
       "array([[26, 16, 92],\n",
       "       [49, 60,  4],\n",
       "       [11, 65, 71]], dtype=int32)"
      ]
     },
     "execution_count": 64,
     "metadata": {},
     "output_type": "execute_result"
    }
   ],
   "source": [
    "arr.transpose()"
   ]
  },
  {
   "cell_type": "code",
   "execution_count": 65,
   "id": "57a95d48-a71a-4b51-804e-feb35d0982c3",
   "metadata": {},
   "outputs": [
    {
     "data": {
      "text/plain": [
       "array([[26, 49, 11],\n",
       "       [16, 60, 65],\n",
       "       [92,  4, 71]], dtype=int32)"
      ]
     },
     "execution_count": 65,
     "metadata": {},
     "output_type": "execute_result"
    }
   ],
   "source": [
    "arr"
   ]
  },
  {
   "cell_type": "markdown",
   "id": "b5dce232-f8aa-4fa4-938e-be48860806aa",
   "metadata": {},
   "source": [
    "## identity matrix"
   ]
  },
  {
   "cell_type": "code",
   "execution_count": 3,
   "id": "8b27216b-dbe5-48c7-8ca4-2cd38918df5d",
   "metadata": {},
   "outputs": [
    {
     "data": {
      "text/plain": [
       "array([[1., 0., 0., 0., 0.],\n",
       "       [0., 1., 0., 0., 0.],\n",
       "       [0., 0., 1., 0., 0.],\n",
       "       [0., 0., 0., 1., 0.],\n",
       "       [0., 0., 0., 0., 1.]])"
      ]
     },
     "execution_count": 3,
     "metadata": {},
     "output_type": "execute_result"
    }
   ],
   "source": [
    "np.eye(5)"
   ]
  },
  {
   "cell_type": "markdown",
   "id": "b947da50-fb1e-46d2-998a-28a0cb9a3ae7",
   "metadata": {},
   "source": [
    "### One and Zero"
   ]
  },
  {
   "cell_type": "code",
   "execution_count": 4,
   "id": "9bfdbef3-c058-41ee-b5f7-8cc8feb486df",
   "metadata": {},
   "outputs": [],
   "source": [
    "zero = np.zeros((5,5))"
   ]
  },
  {
   "cell_type": "code",
   "execution_count": 5,
   "id": "d64d78a7-e91e-413b-972e-d75f0e28dad6",
   "metadata": {},
   "outputs": [
    {
     "data": {
      "text/plain": [
       "array([[0., 0., 0., 0., 0.],\n",
       "       [0., 0., 0., 0., 0.],\n",
       "       [0., 0., 0., 0., 0.],\n",
       "       [0., 0., 0., 0., 0.],\n",
       "       [0., 0., 0., 0., 0.]])"
      ]
     },
     "execution_count": 5,
     "metadata": {},
     "output_type": "execute_result"
    }
   ],
   "source": [
    "zero"
   ]
  },
  {
   "cell_type": "code",
   "execution_count": 6,
   "id": "8d8edf10-564c-4ddc-9618-44b4db397b41",
   "metadata": {},
   "outputs": [
    {
     "data": {
      "text/plain": [
       "array([1., 1., 1., 1., 1., 1.])"
      ]
     },
     "execution_count": 6,
     "metadata": {},
     "output_type": "execute_result"
    }
   ],
   "source": [
    "np.ones(6)"
   ]
  },
  {
   "cell_type": "code",
   "execution_count": 7,
   "id": "72403771-e3a4-41a5-b780-5c89c6b0c987",
   "metadata": {},
   "outputs": [
    {
     "data": {
      "text/plain": [
       "array([[1., 1., 1.],\n",
       "       [1., 1., 1.],\n",
       "       [1., 1., 1.]])"
      ]
     },
     "execution_count": 7,
     "metadata": {},
     "output_type": "execute_result"
    }
   ],
   "source": [
    "np.ones((3,3))"
   ]
  },
  {
   "cell_type": "code",
   "execution_count": null,
   "id": "fef80621-47d2-42ad-bce2-580201df778b",
   "metadata": {},
   "outputs": [],
   "source": []
  }
 ],
 "metadata": {
  "kernelspec": {
   "display_name": "Python [conda env:base] *",
   "language": "python",
   "name": "conda-base-py"
  },
  "language_info": {
   "codemirror_mode": {
    "name": "ipython",
    "version": 3
   },
   "file_extension": ".py",
   "mimetype": "text/x-python",
   "name": "python",
   "nbconvert_exporter": "python",
   "pygments_lexer": "ipython3",
   "version": "3.13.5"
  }
 },
 "nbformat": 4,
 "nbformat_minor": 5
}
