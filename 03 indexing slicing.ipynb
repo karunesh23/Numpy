{
 "cells": [
  {
   "cell_type": "code",
   "execution_count": 1,
   "id": "67b858e2-af83-4430-bba8-5c1514c1234e",
   "metadata": {},
   "outputs": [],
   "source": [
    "import numpy as np"
   ]
  },
  {
   "cell_type": "code",
   "execution_count": 2,
   "id": "837d41b2-cfcf-467f-9fa2-cbc089d1eadb",
   "metadata": {},
   "outputs": [],
   "source": [
    "np.random.seed(50)"
   ]
  },
  {
   "cell_type": "code",
   "execution_count": 4,
   "id": "01ea899f-0e87-4cb2-9026-1515f9686379",
   "metadata": {},
   "outputs": [],
   "source": [
    "arr = np.random.randint(1,20, (3,3))"
   ]
  },
  {
   "cell_type": "code",
   "execution_count": 5,
   "id": "8006924e-51d5-4557-9246-1f195d55cadd",
   "metadata": {},
   "outputs": [
    {
     "data": {
      "text/plain": [
       "array([[14,  6,  3],\n",
       "       [ 8, 16,  5],\n",
       "       [15,  4,  7]], dtype=int32)"
      ]
     },
     "execution_count": 5,
     "metadata": {},
     "output_type": "execute_result"
    }
   ],
   "source": [
    "arr"
   ]
  },
  {
   "cell_type": "code",
   "execution_count": 6,
   "id": "57e3164b-59a0-494f-96cd-fac9a4c8ea94",
   "metadata": {},
   "outputs": [
    {
     "data": {
      "text/plain": [
       "array([15,  4,  7], dtype=int32)"
      ]
     },
     "execution_count": 6,
     "metadata": {},
     "output_type": "execute_result"
    }
   ],
   "source": [
    "arr[2] # firstly we slice row according"
   ]
  },
  {
   "cell_type": "code",
   "execution_count": 8,
   "id": "2519154e-1f46-4fe1-a61c-60fadccd0737",
   "metadata": {},
   "outputs": [
    {
     "data": {
      "text/plain": [
       "np.int32(15)"
      ]
     },
     "execution_count": 8,
     "metadata": {},
     "output_type": "execute_result"
    }
   ],
   "source": [
    "arr[2][0]"
   ]
  },
  {
   "cell_type": "code",
   "execution_count": 10,
   "id": "068932dc-e4e8-44b4-85b4-e67f991188c1",
   "metadata": {},
   "outputs": [
    {
     "data": {
      "text/plain": [
       "np.int32(15)"
      ]
     },
     "execution_count": 10,
     "metadata": {},
     "output_type": "execute_result"
    }
   ],
   "source": [
    "arr[2,0] # we can also write this first row then column"
   ]
  },
  {
   "cell_type": "code",
   "execution_count": 25,
   "id": "2d500efd-bbe8-42f0-8774-3da3b68a1cb5",
   "metadata": {},
   "outputs": [],
   "source": [
    "arr1 = np.random.randint(1,20, (3,5, 4))"
   ]
  },
  {
   "cell_type": "code",
   "execution_count": 26,
   "id": "71df34ee-9051-45b5-98df-ca3c3462f6d2",
   "metadata": {},
   "outputs": [
    {
     "data": {
      "text/plain": [
       "array([[[ 6,  7, 10,  5],\n",
       "        [10,  1, 16, 17],\n",
       "        [18, 17,  5, 12],\n",
       "        [ 2,  6, 14,  4],\n",
       "        [15,  3,  9,  7]],\n",
       "\n",
       "       [[ 1, 15, 14,  5],\n",
       "        [17, 15,  5, 12],\n",
       "        [17, 18, 15, 16],\n",
       "        [ 4,  5, 10,  5],\n",
       "        [ 8, 18, 14, 10]],\n",
       "\n",
       "       [[15, 14, 16,  4],\n",
       "        [ 7, 13, 11, 15],\n",
       "        [ 1, 14, 14,  1],\n",
       "        [ 9, 16, 14,  1],\n",
       "        [11, 15, 13,  5]]], dtype=int32)"
      ]
     },
     "execution_count": 26,
     "metadata": {},
     "output_type": "execute_result"
    }
   ],
   "source": [
    "arr1"
   ]
  },
  {
   "cell_type": "code",
   "execution_count": 13,
   "id": "c3064bb5-9af3-4000-a36a-57266c615774",
   "metadata": {},
   "outputs": [
    {
     "data": {
      "text/plain": [
       "array([[12,  8, 15, 14],\n",
       "       [ 8,  5,  5,  1],\n",
       "       [12,  1, 14, 14],\n",
       "       [ 2, 10, 12,  6],\n",
       "       [ 1, 16,  6,  7]], dtype=int32)"
      ]
     },
     "execution_count": 13,
     "metadata": {},
     "output_type": "execute_result"
    }
   ],
   "source": [
    "arr[1]"
   ]
  },
  {
   "cell_type": "code",
   "execution_count": 14,
   "id": "34072c8c-f505-4e57-a17e-3ba443cf3c43",
   "metadata": {},
   "outputs": [
    {
     "data": {
      "text/plain": [
       "array([ 2, 10, 12,  6], dtype=int32)"
      ]
     },
     "execution_count": 14,
     "metadata": {},
     "output_type": "execute_result"
    }
   ],
   "source": [
    "arr[1,3]"
   ]
  },
  {
   "cell_type": "code",
   "execution_count": 16,
   "id": "008d0006-ceb4-494b-8677-ab6791c82cff",
   "metadata": {},
   "outputs": [
    {
     "data": {
      "text/plain": [
       "np.int32(12)"
      ]
     },
     "execution_count": 16,
     "metadata": {},
     "output_type": "execute_result"
    }
   ],
   "source": [
    "arr[1,3,2] # first represent row total rows second represent row then third represent column"
   ]
  },
  {
   "cell_type": "markdown",
   "id": "18f1bf55-422d-422a-8895-d0e0bb99db3d",
   "metadata": {},
   "source": [
    "## Slicing"
   ]
  },
  {
   "cell_type": "code",
   "execution_count": 17,
   "id": "7afd6dea-9c39-4597-9707-f53c30a3a316",
   "metadata": {},
   "outputs": [],
   "source": [
    "arr = np.random.randint(1, 20, (5,5))"
   ]
  },
  {
   "cell_type": "code",
   "execution_count": 18,
   "id": "e0e7f5f1-7456-42c3-bb54-360f14bdb335",
   "metadata": {},
   "outputs": [
    {
     "data": {
      "text/plain": [
       "array([[ 5, 19, 16, 11, 18],\n",
       "       [ 9, 15, 12,  8, 10],\n",
       "       [ 2,  9,  4,  4, 11],\n",
       "       [ 4,  7, 16,  1, 19],\n",
       "       [12,  2, 18, 15, 15]], dtype=int32)"
      ]
     },
     "execution_count": 18,
     "metadata": {},
     "output_type": "execute_result"
    }
   ],
   "source": [
    "arr"
   ]
  },
  {
   "cell_type": "code",
   "execution_count": 19,
   "id": "d1530904-4ae7-4a4b-b9e6-acd2af1498ed",
   "metadata": {},
   "outputs": [
    {
     "data": {
      "text/plain": [
       "array([[ 2,  9,  4,  4, 11],\n",
       "       [ 4,  7, 16,  1, 19]], dtype=int32)"
      ]
     },
     "execution_count": 19,
     "metadata": {},
     "output_type": "execute_result"
    }
   ],
   "source": [
    "arr[2:4]"
   ]
  },
  {
   "cell_type": "code",
   "execution_count": 20,
   "id": "c8576e04-3104-4a8e-8926-5177025601b5",
   "metadata": {},
   "outputs": [
    {
     "data": {
      "text/plain": [
       "array([[ 9,  4],\n",
       "       [ 7, 16]], dtype=int32)"
      ]
     },
     "execution_count": 20,
     "metadata": {},
     "output_type": "execute_result"
    }
   ],
   "source": [
    "arr[2:4, 1:3]"
   ]
  },
  {
   "cell_type": "code",
   "execution_count": 23,
   "id": "75361d5f-0526-4acb-b149-b0327930be13",
   "metadata": {},
   "outputs": [
    {
     "data": {
      "text/plain": [
       "array([[ 4,  7, 16,  1, 19],\n",
       "       [12,  2, 18, 15, 15]], dtype=int32)"
      ]
     },
     "execution_count": 23,
     "metadata": {},
     "output_type": "execute_result"
    }
   ],
   "source": [
    "arr[3:]"
   ]
  },
  {
   "cell_type": "code",
   "execution_count": 24,
   "id": "7bd5d953-566b-47af-bae8-81165d87bfe0",
   "metadata": {},
   "outputs": [
    {
     "data": {
      "text/plain": [
       "array([[ 5, 19, 16, 11, 18],\n",
       "       [ 9, 15, 12,  8, 10],\n",
       "       [ 2,  9,  4,  4, 11],\n",
       "       [ 4,  7, 16,  1, 19],\n",
       "       [12,  2, 18, 15, 15]], dtype=int32)"
      ]
     },
     "execution_count": 24,
     "metadata": {},
     "output_type": "execute_result"
    }
   ],
   "source": [
    "arr"
   ]
  },
  {
   "cell_type": "code",
   "execution_count": 27,
   "id": "12bd5bde-bdea-4c89-a362-2c05d92e4d1b",
   "metadata": {},
   "outputs": [
    {
     "data": {
      "text/plain": [
       "array([[[ 6,  7, 10,  5],\n",
       "        [10,  1, 16, 17],\n",
       "        [18, 17,  5, 12],\n",
       "        [ 2,  6, 14,  4],\n",
       "        [15,  3,  9,  7]],\n",
       "\n",
       "       [[ 1, 15, 14,  5],\n",
       "        [17, 15,  5, 12],\n",
       "        [17, 18, 15, 16],\n",
       "        [ 4,  5, 10,  5],\n",
       "        [ 8, 18, 14, 10]],\n",
       "\n",
       "       [[15, 14, 16,  4],\n",
       "        [ 7, 13, 11, 15],\n",
       "        [ 1, 14, 14,  1],\n",
       "        [ 9, 16, 14,  1],\n",
       "        [11, 15, 13,  5]]], dtype=int32)"
      ]
     },
     "execution_count": 27,
     "metadata": {},
     "output_type": "execute_result"
    }
   ],
   "source": [
    "arr1"
   ]
  },
  {
   "cell_type": "code",
   "execution_count": 29,
   "id": "643b46e4-7811-4f99-853c-ef7ef3be3400",
   "metadata": {},
   "outputs": [
    {
     "data": {
      "text/plain": [
       "array([[[ 1, 16],\n",
       "        [17,  5],\n",
       "        [ 6, 14]],\n",
       "\n",
       "       [[15,  5],\n",
       "        [18, 15],\n",
       "        [ 5, 10]],\n",
       "\n",
       "       [[13, 11],\n",
       "        [14, 14],\n",
       "        [16, 14]]], dtype=int32)"
      ]
     },
     "execution_count": 29,
     "metadata": {},
     "output_type": "execute_result"
    }
   ],
   "source": [
    "arr1[:, 1:4, 1:3]"
   ]
  },
  {
   "cell_type": "code",
   "execution_count": 30,
   "id": "9c1199a9-d6d8-420a-8e67-4b3ba61137b8",
   "metadata": {},
   "outputs": [
    {
     "data": {
      "text/plain": [
       "array([[[ 6,  7, 10,  5],\n",
       "        [10,  1, 16, 17],\n",
       "        [18, 17,  5, 12],\n",
       "        [ 2,  6, 14,  4],\n",
       "        [15,  3,  9,  7]],\n",
       "\n",
       "       [[ 1, 15, 14,  5],\n",
       "        [17, 15,  5, 12],\n",
       "        [17, 18, 15, 16],\n",
       "        [ 4,  5, 10,  5],\n",
       "        [ 8, 18, 14, 10]],\n",
       "\n",
       "       [[15, 14, 16,  4],\n",
       "        [ 7, 13, 11, 15],\n",
       "        [ 1, 14, 14,  1],\n",
       "        [ 9, 16, 14,  1],\n",
       "        [11, 15, 13,  5]]], dtype=int32)"
      ]
     },
     "execution_count": 30,
     "metadata": {},
     "output_type": "execute_result"
    }
   ],
   "source": [
    "arr1"
   ]
  },
  {
   "cell_type": "code",
   "execution_count": 35,
   "id": "e3780845-d6b3-4f71-b16c-7c24ab28fc1c",
   "metadata": {},
   "outputs": [
    {
     "data": {
      "text/plain": [
       "np.int32(10)"
      ]
     },
     "execution_count": 35,
     "metadata": {},
     "output_type": "execute_result"
    }
   ],
   "source": [
    "arr1[1,3,2]"
   ]
  },
  {
   "cell_type": "code",
   "execution_count": 42,
   "id": "d2e8fc65-7082-4725-8b5a-91e0a9b95eb8",
   "metadata": {},
   "outputs": [
    {
     "data": {
      "text/plain": [
       "array([[[ 5, 12],\n",
       "        [15, 16]]], dtype=int32)"
      ]
     },
     "execution_count": 42,
     "metadata": {},
     "output_type": "execute_result"
    }
   ],
   "source": [
    "arr1[1:2, 1:3, 2:]"
   ]
  },
  {
   "cell_type": "code",
   "execution_count": 43,
   "id": "83ba1e6f-33f4-4757-adae-b61a9744c9c8",
   "metadata": {},
   "outputs": [],
   "source": [
    "arr = np.random.randint(1,10, (4,4))"
   ]
  },
  {
   "cell_type": "code",
   "execution_count": 44,
   "id": "da399db8-767b-4624-9b12-2db4e1a971f1",
   "metadata": {},
   "outputs": [
    {
     "data": {
      "text/plain": [
       "array([[9, 1, 8, 6],\n",
       "       [5, 5, 8, 8],\n",
       "       [1, 9, 8, 7],\n",
       "       [8, 4, 6, 3]], dtype=int32)"
      ]
     },
     "execution_count": 44,
     "metadata": {},
     "output_type": "execute_result"
    }
   ],
   "source": [
    "arr"
   ]
  },
  {
   "cell_type": "code",
   "execution_count": 46,
   "id": "385d6f64-3aa9-48f1-b124-6a13277b7b12",
   "metadata": {},
   "outputs": [],
   "source": [
    "arr[0, -1] = 0"
   ]
  },
  {
   "cell_type": "code",
   "execution_count": 47,
   "id": "81733853-7b96-4644-ab7e-89ca55dcd4eb",
   "metadata": {},
   "outputs": [
    {
     "data": {
      "text/plain": [
       "array([[9, 1, 8, 0],\n",
       "       [5, 5, 8, 8],\n",
       "       [1, 9, 8, 7],\n",
       "       [8, 4, 6, 3]], dtype=int32)"
      ]
     },
     "execution_count": 47,
     "metadata": {},
     "output_type": "execute_result"
    }
   ],
   "source": [
    "arr"
   ]
  },
  {
   "cell_type": "code",
   "execution_count": 50,
   "id": "8f888023-4b8c-4228-b18f-c09a6d1c2b4b",
   "metadata": {},
   "outputs": [],
   "source": [
    "arr[-1,2] = -10"
   ]
  },
  {
   "cell_type": "code",
   "execution_count": 51,
   "id": "09549774-6994-41e7-a33a-994fc0b8c0ed",
   "metadata": {},
   "outputs": [
    {
     "data": {
      "text/plain": [
       "array([[  9,   1,   8,   0],\n",
       "       [  5,   5,   8,   8],\n",
       "       [  1,   9,   8,   7],\n",
       "       [  8,   4, -10,   3]], dtype=int32)"
      ]
     },
     "execution_count": 51,
     "metadata": {},
     "output_type": "execute_result"
    }
   ],
   "source": [
    "arr"
   ]
  },
  {
   "cell_type": "code",
   "execution_count": 52,
   "id": "48c474e1-a406-4f34-94d3-bf05b5629bbb",
   "metadata": {},
   "outputs": [],
   "source": [
    "arr[2:, 0:2] = 5"
   ]
  },
  {
   "cell_type": "code",
   "execution_count": 53,
   "id": "85572494-acd3-40aa-b84f-42b259a7e80f",
   "metadata": {},
   "outputs": [
    {
     "data": {
      "text/plain": [
       "array([[  9,   1,   8,   0],\n",
       "       [  5,   5,   8,   8],\n",
       "       [  5,   5,   8,   7],\n",
       "       [  5,   5, -10,   3]], dtype=int32)"
      ]
     },
     "execution_count": 53,
     "metadata": {},
     "output_type": "execute_result"
    }
   ],
   "source": [
    "arr"
   ]
  },
  {
   "cell_type": "code",
   "execution_count": 54,
   "id": "42572083-7149-45d9-913e-991dbda93a65",
   "metadata": {},
   "outputs": [
    {
     "data": {
      "text/plain": [
       "array([[  9,   1,   8,   0],\n",
       "       [  5,   5,   8,   8],\n",
       "       [  5,   5,   8,   7],\n",
       "       [  5,   5, -10,   3]], dtype=int32)"
      ]
     },
     "execution_count": 54,
     "metadata": {},
     "output_type": "execute_result"
    }
   ],
   "source": [
    "arr"
   ]
  },
  {
   "cell_type": "code",
   "execution_count": 57,
   "id": "3a89e67f-6c9b-4952-a573-b28fc66f19f7",
   "metadata": {},
   "outputs": [],
   "source": [
    " a = arr[-2:, -2:]"
   ]
  },
  {
   "cell_type": "code",
   "execution_count": 58,
   "id": "c8b5ebd5-9145-448a-ab24-63cfbbbab021",
   "metadata": {},
   "outputs": [
    {
     "data": {
      "text/plain": [
       "array([[  8,   7],\n",
       "       [-10,   3]], dtype=int32)"
      ]
     },
     "execution_count": 58,
     "metadata": {},
     "output_type": "execute_result"
    }
   ],
   "source": [
    "a"
   ]
  },
  {
   "cell_type": "code",
   "execution_count": 59,
   "id": "43a815b3-e99d-422d-a107-906b7309b7ea",
   "metadata": {},
   "outputs": [
    {
     "data": {
      "text/plain": [
       "array([[  9,   1,   8,   0],\n",
       "       [  5,   5,   8,   8],\n",
       "       [  5,   5,   8,   7],\n",
       "       [  5,   5, -10,   3]], dtype=int32)"
      ]
     },
     "execution_count": 59,
     "metadata": {},
     "output_type": "execute_result"
    }
   ],
   "source": [
    "arr"
   ]
  },
  {
   "cell_type": "code",
   "execution_count": 60,
   "id": "7334f617-d0fa-470c-8457-9082254318cb",
   "metadata": {},
   "outputs": [],
   "source": [
    "a[0, -1] = 100"
   ]
  },
  {
   "cell_type": "code",
   "execution_count": 61,
   "id": "2bbc4676-bd3b-48d9-9fe5-aee7aa6e30e0",
   "metadata": {},
   "outputs": [
    {
     "data": {
      "text/plain": [
       "array([[  8, 100],\n",
       "       [-10,   3]], dtype=int32)"
      ]
     },
     "execution_count": 61,
     "metadata": {},
     "output_type": "execute_result"
    }
   ],
   "source": [
    "a"
   ]
  },
  {
   "cell_type": "code",
   "execution_count": 62,
   "id": "7ac4258c-1a2f-4e45-a3b6-c553e4ae37a1",
   "metadata": {},
   "outputs": [
    {
     "data": {
      "text/plain": [
       "array([[  9,   1,   8,   0],\n",
       "       [  5,   5,   8,   8],\n",
       "       [  5,   5,   8, 100],\n",
       "       [  5,   5, -10,   3]], dtype=int32)"
      ]
     },
     "execution_count": 62,
     "metadata": {},
     "output_type": "execute_result"
    }
   ],
   "source": [
    "arr"
   ]
  },
  {
   "cell_type": "code",
   "execution_count": 63,
   "id": "736812c1-c108-460b-af43-32d91bda972d",
   "metadata": {},
   "outputs": [],
   "source": [
    "# if we do changes in copy then it doenot save in original array it create copy exa=.copy()"
   ]
  },
  {
   "cell_type": "code",
   "execution_count": 64,
   "id": "98e3597a-cbb8-4ceb-a2c3-1d093f129d5a",
   "metadata": {},
   "outputs": [
    {
     "data": {
      "text/plain": [
       "array([[  9,   1,   8,   0],\n",
       "       [  5,   5,   8,   8],\n",
       "       [  5,   5,   8, 100],\n",
       "       [  5,   5, -10,   3]], dtype=int32)"
      ]
     },
     "execution_count": 64,
     "metadata": {},
     "output_type": "execute_result"
    }
   ],
   "source": [
    "arr"
   ]
  },
  {
   "cell_type": "code",
   "execution_count": 66,
   "id": "0b141b04-1341-4263-8008-1409eb3eeb9e",
   "metadata": {},
   "outputs": [],
   "source": [
    "arr = np.arange(9)\n",
    "arr = arr.reshape(3,3)"
   ]
  },
  {
   "cell_type": "code",
   "execution_count": 67,
   "id": "3598163a-aaac-4c69-8127-4770a43d1bc4",
   "metadata": {},
   "outputs": [
    {
     "data": {
      "text/plain": [
       "array([[0, 1, 2],\n",
       "       [3, 4, 5],\n",
       "       [6, 7, 8]])"
      ]
     },
     "execution_count": 67,
     "metadata": {},
     "output_type": "execute_result"
    }
   ],
   "source": [
    "arr"
   ]
  },
  {
   "cell_type": "code",
   "execution_count": 68,
   "id": "7622497e-b815-4714-8adc-745d14f8e3aa",
   "metadata": {},
   "outputs": [],
   "source": [
    "a = arr"
   ]
  },
  {
   "cell_type": "code",
   "execution_count": 69,
   "id": "330c448d-c423-444e-b759-e2e184e063a9",
   "metadata": {},
   "outputs": [],
   "source": [
    "b = arr.copy()"
   ]
  },
  {
   "cell_type": "code",
   "execution_count": 70,
   "id": "556b8b33-97e1-423d-90f1-a62003f0f6da",
   "metadata": {},
   "outputs": [],
   "source": [
    "a[0][0] = 50"
   ]
  },
  {
   "cell_type": "code",
   "execution_count": 71,
   "id": "9bd92b1c-c70b-49d6-a8d8-0e5ede726253",
   "metadata": {},
   "outputs": [
    {
     "data": {
      "text/plain": [
       "array([[50,  1,  2],\n",
       "       [ 3,  4,  5],\n",
       "       [ 6,  7,  8]])"
      ]
     },
     "execution_count": 71,
     "metadata": {},
     "output_type": "execute_result"
    }
   ],
   "source": [
    "arr"
   ]
  },
  {
   "cell_type": "code",
   "execution_count": 72,
   "id": "1bd29def-06da-48b1-a6de-cc1b89c64555",
   "metadata": {},
   "outputs": [],
   "source": [
    "b[0,0] = 100"
   ]
  },
  {
   "cell_type": "code",
   "execution_count": 73,
   "id": "014cbab1-d79c-4947-858b-e4ec8e3cd037",
   "metadata": {},
   "outputs": [
    {
     "data": {
      "text/plain": [
       "array([[100,   1,   2],\n",
       "       [  3,   4,   5],\n",
       "       [  6,   7,   8]])"
      ]
     },
     "execution_count": 73,
     "metadata": {},
     "output_type": "execute_result"
    }
   ],
   "source": [
    "b"
   ]
  },
  {
   "cell_type": "code",
   "execution_count": 74,
   "id": "71d63ff1-a219-424b-bdad-59d63471dfe3",
   "metadata": {},
   "outputs": [
    {
     "data": {
      "text/plain": [
       "array([[50,  1,  2],\n",
       "       [ 3,  4,  5],\n",
       "       [ 6,  7,  8]])"
      ]
     },
     "execution_count": 74,
     "metadata": {},
     "output_type": "execute_result"
    }
   ],
   "source": [
    "arr"
   ]
  },
  {
   "cell_type": "code",
   "execution_count": null,
   "id": "b96e4d7c-875f-48e4-8a40-b25efc6c2d7c",
   "metadata": {},
   "outputs": [],
   "source": []
  }
 ],
 "metadata": {
  "kernelspec": {
   "display_name": "Python [conda env:base] *",
   "language": "python",
   "name": "conda-base-py"
  },
  "language_info": {
   "codemirror_mode": {
    "name": "ipython",
    "version": 3
   },
   "file_extension": ".py",
   "mimetype": "text/x-python",
   "name": "python",
   "nbconvert_exporter": "python",
   "pygments_lexer": "ipython3",
   "version": "3.13.5"
  }
 },
 "nbformat": 4,
 "nbformat_minor": 5
}
