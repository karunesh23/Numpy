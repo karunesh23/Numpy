{
 "cells": [
  {
   "cell_type": "markdown",
   "id": "3a9a6d9c-c5cf-4128-83cf-1650a8fe0b40",
   "metadata": {},
   "source": [
    "## single neuron"
   ]
  },
  {
   "cell_type": "code",
   "execution_count": 1,
   "id": "34116571-44b1-431e-a766-359eb763a13f",
   "metadata": {},
   "outputs": [],
   "source": [
    "inputs = [1,2,3]\n",
    "weights = [0.2, 0.8, -0.5]\n",
    "bias = 2"
   ]
  },
  {
   "cell_type": "code",
   "execution_count": 2,
   "id": "e39994e2-4832-48ed-8e55-8b5c8adce654",
   "metadata": {},
   "outputs": [
    {
     "name": "stdout",
     "output_type": "stream",
     "text": [
      "2.3\n"
     ]
    }
   ],
   "source": [
    "output = inputs[0]*weights[0] + inputs[1]*weights[1] + inputs[2]*weights[2] +bias\n",
    "print(output)"
   ]
  },
  {
   "cell_type": "markdown",
   "id": "ca3bc47c-5588-4f2c-a93b-9a9a670afefd",
   "metadata": {},
   "source": [
    "## adding an input"
   ]
  },
  {
   "cell_type": "code",
   "execution_count": 3,
   "id": "b153fd2d-e2a5-45ea-9fd6-fcea25b629db",
   "metadata": {},
   "outputs": [],
   "source": [
    "inputs = [1,2,3,2.5]\n",
    "weights = [0.2, 0.8, -0.5, 1.0]\n",
    "bias = 2"
   ]
  },
  {
   "cell_type": "code",
   "execution_count": 4,
   "id": "06607729-c7a8-40ba-bdc0-6bb31a830b4b",
   "metadata": {},
   "outputs": [
    {
     "name": "stdout",
     "output_type": "stream",
     "text": [
      "4.8\n"
     ]
    }
   ],
   "source": [
    "output = inputs[0]*weights[0] + inputs[1]*weights[1] + inputs[2]*weights[2] + inputs[3]*weights[3] +bias\n",
    "print(output)"
   ]
  },
  {
   "cell_type": "markdown",
   "id": "7e7d96d6-ac7e-491e-9c19-372a3a3df14f",
   "metadata": {},
   "source": [
    "## Layer of Neuron"
   ]
  },
  {
   "cell_type": "code",
   "execution_count": 5,
   "id": "cb70a929-9bd0-4200-b473-430755fe7796",
   "metadata": {},
   "outputs": [],
   "source": [
    "inputs = [1,2,3,2.5]\n",
    "weights1 = [0.2, 0.8, -0.5, 1.0]\n",
    "weights2 = [0.5, -0.91, 0.26, -0.5]\n",
    "weights3 = [-0.26, -0.27, 0.17, 0.87]\n",
    "\n",
    "bias1 = 2\n",
    "bias2 = 3\n",
    "bias3 = 0.5"
   ]
  },
  {
   "cell_type": "code",
   "execution_count": 6,
   "id": "27353646-82bf-49e2-9ca3-a242332bacca",
   "metadata": {},
   "outputs": [],
   "source": [
    "outputs = [\n",
    "    # first neuron\n",
    "    inputs[0] * weights1[0]+\n",
    "    inputs[1] * weights1[1]+\n",
    "    inputs[2] * weights1[2]+\n",
    "    inputs[3] * weights1[3]+ bias1,\n",
    "\n",
    "    # second neuron\n",
    "    inputs[0] * weights2[0]+\n",
    "    inputs[1] * weights2[1]+\n",
    "    inputs[2] * weights2[2]+\n",
    "    inputs[3] * weights2[3]+ bias2,\n",
    "\n",
    "    # third neuron\n",
    "    inputs[0] * weights3[0]+\n",
    "    inputs[1] * weights3[1]+\n",
    "    inputs[2] * weights3[2]+\n",
    "    inputs[3] * weights3[3]+ bias3\n",
    "]"
   ]
  },
  {
   "cell_type": "code",
   "execution_count": 7,
   "id": "ebc5245f-2eba-4f0e-81dc-4a7b4cc5bb82",
   "metadata": {},
   "outputs": [
    {
     "name": "stdout",
     "output_type": "stream",
     "text": [
      "[4.8, 1.21, 2.385]\n"
     ]
    }
   ],
   "source": [
    "print(outputs)"
   ]
  },
  {
   "cell_type": "markdown",
   "id": "f72c921b-cca3-4080-859b-906ad42bf44f",
   "metadata": {},
   "source": [
    "## calculating through loops"
   ]
  },
  {
   "cell_type": "code",
   "execution_count": 8,
   "id": "cdcaeb9c-a3f8-4720-b71f-d493804e6638",
   "metadata": {},
   "outputs": [],
   "source": [
    "inputs = [1,2,3,2.5]\n",
    "weights1 = [0.2, 0.8, -0.5, 1.0]\n",
    "weights2 = [0.5, -0.91, 0.26, -0.5]\n",
    "weights3 = [-0.26, -0.27, 0.17, 0.87]\n",
    "\n",
    "bias1 = 2\n",
    "bias2 = 3\n",
    "bias3 = 0.5"
   ]
  },
  {
   "cell_type": "code",
   "execution_count": 9,
   "id": "66ab23d6-443e-4e10-9e5b-48d917661ced",
   "metadata": {},
   "outputs": [],
   "source": [
    "layers_output = []"
   ]
  },
  {
   "cell_type": "code",
   "execution_count": null,
   "id": "2f7ff15a-e334-48cc-92f8-6194a4c5e416",
   "metadata": {},
   "outputs": [],
   "source": [
    "for neuron_weights, neuron_bias in zip()"
   ]
  },
  {
   "cell_type": "code",
   "execution_count": null,
   "id": "611dc5e9-b66d-4376-ab0f-b83d40d4d8c5",
   "metadata": {},
   "outputs": [],
   "source": []
  },
  {
   "cell_type": "markdown",
   "id": "f8c4db29-b253-4e89-94b0-0b869539bc54",
   "metadata": {},
   "source": [
    "## dot product 2 vectors"
   ]
  },
  {
   "cell_type": "code",
   "execution_count": null,
   "id": "8edd8c98-ea0b-4894-8bde-8c1ce781b4d4",
   "metadata": {},
   "outputs": [],
   "source": []
  }
 ],
 "metadata": {
  "kernelspec": {
   "display_name": "Python [conda env:base] *",
   "language": "python",
   "name": "conda-base-py"
  },
  "language_info": {
   "codemirror_mode": {
    "name": "ipython",
    "version": 3
   },
   "file_extension": ".py",
   "mimetype": "text/x-python",
   "name": "python",
   "nbconvert_exporter": "python",
   "pygments_lexer": "ipython3",
   "version": "3.13.5"
  }
 },
 "nbformat": 4,
 "nbformat_minor": 5
}
