{
 "cells": [
  {
   "cell_type": "code",
   "execution_count": 1,
   "id": "60d7dae2-688f-455b-b3d4-8930d67d8f7f",
   "metadata": {},
   "outputs": [],
   "source": [
    "# numpy used for vector storage of data"
   ]
  },
  {
   "cell_type": "code",
   "execution_count": 2,
   "id": "ebd0099c-a79a-4e77-a606-70eb2327945f",
   "metadata": {},
   "outputs": [],
   "source": [
    "import numpy as np"
   ]
  },
  {
   "cell_type": "code",
   "execution_count": 11,
   "id": "22ed2b98-d69f-4205-8f7b-5c3330f5076b",
   "metadata": {},
   "outputs": [],
   "source": [
    "array1 = np.array([[[[[1,2,3,4]]]]])"
   ]
  },
  {
   "cell_type": "code",
   "execution_count": 15,
   "id": "10be8536-2b29-4e60-87c0-963f9732b8af",
   "metadata": {},
   "outputs": [
    {
     "name": "stdout",
     "output_type": "stream",
     "text": [
      "[[[[[1 2 3 4]]]]]\n"
     ]
    }
   ],
   "source": [
    "print(array1)"
   ]
  },
  {
   "cell_type": "code",
   "execution_count": 14,
   "id": "76d591f9-c1e7-4c26-b1dc-dacb131a89ad",
   "metadata": {},
   "outputs": [
    {
     "data": {
      "text/plain": [
       "array([[[[[1, 2, 3, 4]]]]])"
      ]
     },
     "execution_count": 14,
     "metadata": {},
     "output_type": "execute_result"
    }
   ],
   "source": [
    "array1"
   ]
  },
  {
   "cell_type": "code",
   "execution_count": 13,
   "id": "e78f2029-caec-4edb-917a-487d5a523ac1",
   "metadata": {},
   "outputs": [
    {
     "data": {
      "text/plain": [
       "(1, 1, 1, 1, 4)"
      ]
     },
     "execution_count": 13,
     "metadata": {},
     "output_type": "execute_result"
    }
   ],
   "source": [
    "array1.shape"
   ]
  },
  {
   "cell_type": "code",
   "execution_count": 12,
   "id": "0cedaacb-5238-49f9-b48a-9acc66b94316",
   "metadata": {},
   "outputs": [
    {
     "data": {
      "text/plain": [
       "5"
      ]
     },
     "execution_count": 12,
     "metadata": {},
     "output_type": "execute_result"
    }
   ],
   "source": [
    "array1.ndim"
   ]
  },
  {
   "cell_type": "code",
   "execution_count": 17,
   "id": "c03ed110-58c3-444e-aa2a-12d27859a832",
   "metadata": {},
   "outputs": [],
   "source": [
    "# 2d will be form with the combination of one d array  when be combined one d array together its called 2d"
   ]
  },
  {
   "cell_type": "code",
   "execution_count": 18,
   "id": "73d02d1e-bd8b-4456-bb1c-3ccee51242b1",
   "metadata": {},
   "outputs": [],
   "source": [
    "array2 = np.array([[1,2,3], [4,5,6], [7,8,9]])"
   ]
  },
  {
   "cell_type": "code",
   "execution_count": 19,
   "id": "6c630079-7ea1-4470-bf85-1fe072093b5e",
   "metadata": {},
   "outputs": [
    {
     "data": {
      "text/plain": [
       "array([[1, 2, 3],\n",
       "       [4, 5, 6],\n",
       "       [7, 8, 9]])"
      ]
     },
     "execution_count": 19,
     "metadata": {},
     "output_type": "execute_result"
    }
   ],
   "source": [
    "array2"
   ]
  },
  {
   "cell_type": "code",
   "execution_count": 20,
   "id": "95263201-a20c-4147-b52c-6364920f0190",
   "metadata": {},
   "outputs": [
    {
     "data": {
      "text/plain": [
       "2"
      ]
     },
     "execution_count": 20,
     "metadata": {},
     "output_type": "execute_result"
    }
   ],
   "source": [
    "array2.ndim"
   ]
  },
  {
   "cell_type": "code",
   "execution_count": 21,
   "id": "6b346244-ec2a-4a76-b8bb-eb9c57ad5093",
   "metadata": {},
   "outputs": [
    {
     "data": {
      "text/plain": [
       "(3, 3)"
      ]
     },
     "execution_count": 21,
     "metadata": {},
     "output_type": "execute_result"
    }
   ],
   "source": [
    "array2.shape"
   ]
  },
  {
   "cell_type": "code",
   "execution_count": 24,
   "id": "74abe5c9-a47d-4820-bbb9-716db482cc3b",
   "metadata": {},
   "outputs": [],
   "source": [
    "array4 = np.array([[1,2,3], [4,5,6]])"
   ]
  },
  {
   "cell_type": "code",
   "execution_count": 25,
   "id": "9106b5b8-7f62-48fb-b9fc-be0bade95573",
   "metadata": {},
   "outputs": [
    {
     "data": {
      "text/plain": [
       "(2, 3)"
      ]
     },
     "execution_count": 25,
     "metadata": {},
     "output_type": "execute_result"
    }
   ],
   "source": [
    "array4.shape"
   ]
  },
  {
   "cell_type": "code",
   "execution_count": 26,
   "id": "0c9bad58-a53d-4aac-89a1-1a27c5a1502b",
   "metadata": {},
   "outputs": [],
   "source": [
    "# 3d array when we combine multiple together 2d array its called 3d"
   ]
  },
  {
   "cell_type": "code",
   "execution_count": 37,
   "id": "7d712b90-2e19-4b39-8d69-a5d37598045a",
   "metadata": {},
   "outputs": [],
   "source": [
    "array3 = np.array([[[1,2,3], [4,5,6]], [[7,8,9], [1,2,3]]])"
   ]
  },
  {
   "cell_type": "code",
   "execution_count": 38,
   "id": "16879812-c115-4932-bf17-3d6a9205ec9c",
   "metadata": {},
   "outputs": [
    {
     "data": {
      "text/plain": [
       "array([[[1, 2, 3],\n",
       "        [4, 5, 6]],\n",
       "\n",
       "       [[7, 8, 9],\n",
       "        [1, 2, 3]]])"
      ]
     },
     "execution_count": 38,
     "metadata": {},
     "output_type": "execute_result"
    }
   ],
   "source": [
    "array3"
   ]
  },
  {
   "cell_type": "code",
   "execution_count": 39,
   "id": "83dbf4b2-21e1-4855-b462-3200ee2dd74b",
   "metadata": {},
   "outputs": [
    {
     "data": {
      "text/plain": [
       "(2, 2, 3)"
      ]
     },
     "execution_count": 39,
     "metadata": {},
     "output_type": "execute_result"
    }
   ],
   "source": [
    "array3.shape"
   ]
  },
  {
   "cell_type": "code",
   "execution_count": 40,
   "id": "c5c19ab9-0d71-4d1a-8865-fa5091e95629",
   "metadata": {},
   "outputs": [
    {
     "data": {
      "text/plain": [
       "(4, 2, 2)"
      ]
     },
     "execution_count": 40,
     "metadata": {},
     "output_type": "execute_result"
    }
   ],
   "source": [
    "4,2,2 #4,1,3"
   ]
  },
  {
   "cell_type": "code",
   "execution_count": 59,
   "id": "50ab3096-9ce3-4535-8514-e93ef4aebfcb",
   "metadata": {},
   "outputs": [],
   "source": [
    "array5 = np.array([[[1,2,3], [1,2,3]], [[1,2,3], [12,3,3]]])"
   ]
  },
  {
   "cell_type": "code",
   "execution_count": 60,
   "id": "9f843848-9a10-4cbb-934a-8b40df70ca9a",
   "metadata": {},
   "outputs": [
    {
     "data": {
      "text/plain": [
       "array([[[ 1,  2,  3],\n",
       "        [ 1,  2,  3]],\n",
       "\n",
       "       [[ 1,  2,  3],\n",
       "        [12,  3,  3]]])"
      ]
     },
     "execution_count": 60,
     "metadata": {},
     "output_type": "execute_result"
    }
   ],
   "source": [
    "array5"
   ]
  },
  {
   "cell_type": "code",
   "execution_count": 61,
   "id": "edf248ca-a915-419e-94ce-839da8078b8b",
   "metadata": {},
   "outputs": [],
   "source": [
    "# broadcasting"
   ]
  },
  {
   "cell_type": "code",
   "execution_count": null,
   "id": "ef6d6e40-aedb-4c55-896e-f64667879c4e",
   "metadata": {},
   "outputs": [],
   "source": []
  }
 ],
 "metadata": {
  "kernelspec": {
   "display_name": "Python [conda env:base] *",
   "language": "python",
   "name": "conda-base-py"
  },
  "language_info": {
   "codemirror_mode": {
    "name": "ipython",
    "version": 3
   },
   "file_extension": ".py",
   "mimetype": "text/x-python",
   "name": "python",
   "nbconvert_exporter": "python",
   "pygments_lexer": "ipython3",
   "version": "3.13.5"
  }
 },
 "nbformat": 4,
 "nbformat_minor": 5
}
