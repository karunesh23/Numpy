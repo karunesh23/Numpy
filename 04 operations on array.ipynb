{
 "cells": [
  {
   "cell_type": "code",
   "execution_count": 2,
   "id": "42a9909a-449f-4891-9680-d8f8a1461d28",
   "metadata": {},
   "outputs": [],
   "source": [
    "import numpy as np"
   ]
  },
  {
   "cell_type": "markdown",
   "id": "c3bb2a4b-3275-4d22-8e00-c9574dea6142",
   "metadata": {},
   "source": [
    "## Broadcasting"
   ]
  },
  {
   "cell_type": "code",
   "execution_count": 4,
   "id": "2d921d92-87e0-4acf-93c9-7faffd631dc1",
   "metadata": {},
   "outputs": [],
   "source": [
    "arr = np.arange(0,9)\n",
    "arr = arr.reshape(3,3)"
   ]
  },
  {
   "cell_type": "code",
   "execution_count": 5,
   "id": "99ba7565-786d-4856-b8c3-639ffa66f9ae",
   "metadata": {},
   "outputs": [
    {
     "data": {
      "text/plain": [
       "array([[0, 1, 2],\n",
       "       [3, 4, 5],\n",
       "       [6, 7, 8]])"
      ]
     },
     "execution_count": 5,
     "metadata": {},
     "output_type": "execute_result"
    }
   ],
   "source": [
    "arr"
   ]
  },
  {
   "cell_type": "code",
   "execution_count": 7,
   "id": "3bd1213c-8764-4c01-820b-e57f5c78be1b",
   "metadata": {},
   "outputs": [
    {
     "data": {
      "text/plain": [
       "array([[ 0,  3,  6],\n",
       "       [ 9, 12, 15],\n",
       "       [18, 21, 24]])"
      ]
     },
     "execution_count": 7,
     "metadata": {},
     "output_type": "execute_result"
    }
   ],
   "source": [
    "arr*3 "
   ]
  },
  {
   "cell_type": "markdown",
   "id": "b900b741-85de-48d3-a07a-acdc94f6d3ff",
   "metadata": {},
   "source": [
    "## Dot product on one dimensional array means vector"
   ]
  },
  {
   "cell_type": "code",
   "execution_count": 5,
   "id": "1a516a10-5230-414e-a2fa-66c49fd694a6",
   "metadata": {},
   "outputs": [],
   "source": [
    "a = np.array([5, -3, 2])\n",
    "b = np.array([4, 5, 3])"
   ]
  },
  {
   "cell_type": "code",
   "execution_count": 6,
   "id": "bb6bffab-1f93-45d3-8c4a-df6a61f1b723",
   "metadata": {},
   "outputs": [
    {
     "data": {
      "text/plain": [
       "array([ 5, -3,  2])"
      ]
     },
     "execution_count": 6,
     "metadata": {},
     "output_type": "execute_result"
    }
   ],
   "source": [
    "a"
   ]
  },
  {
   "cell_type": "code",
   "execution_count": 7,
   "id": "5fc272ed-7e85-4344-970f-c92704c1c2f5",
   "metadata": {},
   "outputs": [
    {
     "data": {
      "text/plain": [
       "array([4, 5, 3])"
      ]
     },
     "execution_count": 7,
     "metadata": {},
     "output_type": "execute_result"
    }
   ],
   "source": [
    "b"
   ]
  },
  {
   "cell_type": "code",
   "execution_count": 8,
   "id": "7d84c56f-56bb-4c25-852e-4ab313c90285",
   "metadata": {},
   "outputs": [
    {
     "data": {
      "text/plain": [
       "np.int64(11)"
      ]
     },
     "execution_count": 8,
     "metadata": {},
     "output_type": "execute_result"
    }
   ],
   "source": [
    "a.dot(b)"
   ]
  },
  {
   "cell_type": "markdown",
   "id": "50386d6a-edee-4fdc-af8d-b2571e76bb59",
   "metadata": {},
   "source": [
    "## Cross product 2 vectors"
   ]
  },
  {
   "cell_type": "code",
   "execution_count": 9,
   "id": "98171c06-ad51-4795-93fb-8372e14a332c",
   "metadata": {},
   "outputs": [],
   "source": [
    "a = np.array([3,4,5])\n",
    "b = np.array([7,8,9])"
   ]
  },
  {
   "cell_type": "code",
   "execution_count": 10,
   "id": "d022c450-4f1c-4354-8332-198f41458494",
   "metadata": {},
   "outputs": [
    {
     "data": {
      "text/plain": [
       "array([3, 4, 5])"
      ]
     },
     "execution_count": 10,
     "metadata": {},
     "output_type": "execute_result"
    }
   ],
   "source": [
    "a"
   ]
  },
  {
   "cell_type": "code",
   "execution_count": 11,
   "id": "aec3c712-0ae1-41e3-a2bc-6a6c0f6a3e95",
   "metadata": {},
   "outputs": [
    {
     "data": {
      "text/plain": [
       "array([7, 8, 9])"
      ]
     },
     "execution_count": 11,
     "metadata": {},
     "output_type": "execute_result"
    }
   ],
   "source": [
    "b"
   ]
  },
  {
   "cell_type": "code",
   "execution_count": 13,
   "id": "d2e1f0cf-1279-4f64-b82b-5a3d3f268bea",
   "metadata": {},
   "outputs": [],
   "source": [
    "c = np.cross(a,b)"
   ]
  },
  {
   "cell_type": "code",
   "execution_count": 14,
   "id": "51cd5702-6539-4821-84c4-eaeeeeddec43",
   "metadata": {},
   "outputs": [
    {
     "data": {
      "text/plain": [
       "array([-4,  8, -4])"
      ]
     },
     "execution_count": 14,
     "metadata": {},
     "output_type": "execute_result"
    }
   ],
   "source": [
    "c"
   ]
  },
  {
   "cell_type": "code",
   "execution_count": 16,
   "id": "11adfcba-31bf-45bb-872a-f55e4eb7748c",
   "metadata": {},
   "outputs": [
    {
     "data": {
      "text/plain": [
       "np.int64(0)"
      ]
     },
     "execution_count": 16,
     "metadata": {},
     "output_type": "execute_result"
    }
   ],
   "source": [
    "c.dot(a)"
   ]
  },
  {
   "cell_type": "markdown",
   "id": "f33b1b33-1c1f-415f-9181-f95a190e99a2",
   "metadata": {},
   "source": [
    "## determinant"
   ]
  },
  {
   "cell_type": "code",
   "execution_count": 17,
   "id": "9c011eb1-b731-446a-90e0-674ee2a0511e",
   "metadata": {},
   "outputs": [],
   "source": [
    "arr = np.array([\n",
    "    [3,5,2],\n",
    "    [1,4,7],\n",
    "    [6,8,9]\n",
    "])"
   ]
  },
  {
   "cell_type": "code",
   "execution_count": 18,
   "id": "7ce94889-20e0-4f3d-80ce-e9b206a8030c",
   "metadata": {},
   "outputs": [
    {
     "data": {
      "text/plain": [
       "array([[3, 5, 2],\n",
       "       [1, 4, 7],\n",
       "       [6, 8, 9]])"
      ]
     },
     "execution_count": 18,
     "metadata": {},
     "output_type": "execute_result"
    }
   ],
   "source": [
    "arr"
   ]
  },
  {
   "cell_type": "code",
   "execution_count": 19,
   "id": "2a73dcf2-281e-4a34-988e-73e4a7409a1a",
   "metadata": {},
   "outputs": [
    {
     "data": {
      "text/plain": [
       "np.float64(72.99999999999999)"
      ]
     },
     "execution_count": 19,
     "metadata": {},
     "output_type": "execute_result"
    }
   ],
   "source": [
    "np.linalg.det(arr)"
   ]
  },
  {
   "cell_type": "code",
   "execution_count": 20,
   "id": "194b250d-82a0-448b-8d4a-530c20cff529",
   "metadata": {},
   "outputs": [
    {
     "data": {
      "text/plain": [
       "73"
      ]
     },
     "execution_count": 20,
     "metadata": {},
     "output_type": "execute_result"
    }
   ],
   "source": [
    "round(np.linalg.det(arr))"
   ]
  },
  {
   "cell_type": "code",
   "execution_count": 21,
   "id": "cec5733b-3e84-4516-a890-665ef55f677d",
   "metadata": {},
   "outputs": [],
   "source": [
    "# parllel lines ka determinant zero hota hai if two vectors are in same direction then cross product will be zero\n",
    "arr = np.array([\n",
    "    [3,5,2],\n",
    "    [6,10,4],\n",
    "    [6,8,9]\n",
    "])"
   ]
  },
  {
   "cell_type": "code",
   "execution_count": 22,
   "id": "a3dd78b4-a15c-4039-94be-be3fe473edf6",
   "metadata": {},
   "outputs": [
    {
     "data": {
      "text/plain": [
       "np.float64(0.0)"
      ]
     },
     "execution_count": 22,
     "metadata": {},
     "output_type": "execute_result"
    }
   ],
   "source": [
    "np.linalg.det(arr)"
   ]
  },
  {
   "cell_type": "markdown",
   "id": "1a1e1992-262b-4a3d-ad83-2d350c6e0371",
   "metadata": {},
   "source": [
    "## inverse of a matrix"
   ]
  },
  {
   "cell_type": "code",
   "execution_count": 16,
   "id": "bb875657-c40e-49fb-9b12-d46b49a36a8f",
   "metadata": {},
   "outputs": [],
   "source": [
    "arr = np.array([\n",
    "    [1,2,3],\n",
    "    [3,-2,1],\n",
    "    [4,1,1]\n",
    "])"
   ]
  },
  {
   "cell_type": "code",
   "execution_count": 17,
   "id": "4c7d3aaa-3875-4e53-9f35-4a83ced30bc3",
   "metadata": {},
   "outputs": [],
   "source": [
    "inv = np.linalg.inv(arr)"
   ]
  },
  {
   "cell_type": "code",
   "execution_count": 18,
   "id": "47754c52-9d91-4b8a-bf02-74e258070d66",
   "metadata": {},
   "outputs": [
    {
     "data": {
      "text/plain": [
       "array([[-0.09375,  0.03125,  0.25   ],\n",
       "       [ 0.03125, -0.34375,  0.25   ],\n",
       "       [ 0.34375,  0.21875, -0.25   ]])"
      ]
     },
     "execution_count": 18,
     "metadata": {},
     "output_type": "execute_result"
    }
   ],
   "source": [
    "inv"
   ]
  },
  {
   "cell_type": "code",
   "execution_count": 19,
   "id": "00ca2e6a-a583-4c93-90f6-949c3af43615",
   "metadata": {},
   "outputs": [
    {
     "data": {
      "text/plain": [
       "array([[1., 0., 0.],\n",
       "       [0., 1., 0.],\n",
       "       [0., 0., 1.]])"
      ]
     },
     "execution_count": 19,
     "metadata": {},
     "output_type": "execute_result"
    }
   ],
   "source": [
    "arr.dot(inv)"
   ]
  },
  {
   "cell_type": "code",
   "execution_count": 15,
   "id": "815f6ff8-a9d9-4c7d-8b59-9cb548ded5d8",
   "metadata": {},
   "outputs": [
    {
     "data": {
      "text/plain": [
       "32"
      ]
     },
     "execution_count": 15,
     "metadata": {},
     "output_type": "execute_result"
    }
   ],
   "source": [
    "round(np.linalg.det(arr))"
   ]
  },
  {
   "cell_type": "code",
   "execution_count": 21,
   "id": "5f3b4cb2-349f-4d84-ad21-44e7b234268d",
   "metadata": {},
   "outputs": [],
   "source": [
    "i = np.eye(3) # identity matrix ka determinent 1 hota hai"
   ]
  },
  {
   "cell_type": "code",
   "execution_count": 22,
   "id": "3e4aaf20-9c4a-4b1f-876a-6d044f7f6be9",
   "metadata": {},
   "outputs": [
    {
     "data": {
      "text/plain": [
       "np.float64(1.0)"
      ]
     },
     "execution_count": 22,
     "metadata": {},
     "output_type": "execute_result"
    }
   ],
   "source": [
    "np.linalg.det(i)"
   ]
  },
  {
   "cell_type": "code",
   "execution_count": 23,
   "id": "c788341d-6ce5-4bd9-b982-07d17a361bcc",
   "metadata": {},
   "outputs": [
    {
     "data": {
      "text/plain": [
       "array([[ 1,  2,  3],\n",
       "       [ 3, -2,  1],\n",
       "       [ 4,  1,  1]])"
      ]
     },
     "execution_count": 23,
     "metadata": {},
     "output_type": "execute_result"
    }
   ],
   "source": [
    "arr"
   ]
  },
  {
   "cell_type": "code",
   "execution_count": 24,
   "id": "f194e944-34c0-4a69-9256-47cf4f97ad3b",
   "metadata": {},
   "outputs": [
    {
     "data": {
      "text/plain": [
       "array([[ 1.,  2.,  3.],\n",
       "       [ 3., -2.,  1.],\n",
       "       [ 4.,  1.,  1.]])"
      ]
     },
     "execution_count": 24,
     "metadata": {},
     "output_type": "execute_result"
    }
   ],
   "source": [
    "arr.dot(i)"
   ]
  },
  {
   "cell_type": "markdown",
   "id": "9bff866f-ff8b-412f-ad67-4c99bbb6423e",
   "metadata": {},
   "source": [
    "### multiply of 2 matrix "
   ]
  },
  {
   "cell_type": "code",
   "execution_count": 27,
   "id": "6b35ccce-4642-4132-ac00-ccc1293a4447",
   "metadata": {},
   "outputs": [],
   "source": [
    "x = np.random.randint(1,10, (3,3))"
   ]
  },
  {
   "cell_type": "code",
   "execution_count": 28,
   "id": "b873513c-ceb1-47c6-b3cd-dc314e7b1cba",
   "metadata": {},
   "outputs": [
    {
     "data": {
      "text/plain": [
       "array([[7, 3, 8],\n",
       "       [1, 5, 4],\n",
       "       [9, 4, 7]], dtype=int32)"
      ]
     },
     "execution_count": 28,
     "metadata": {},
     "output_type": "execute_result"
    }
   ],
   "source": [
    "x"
   ]
  },
  {
   "cell_type": "code",
   "execution_count": 30,
   "id": "2b3e756b-cdd5-4286-9f4e-bba03e732122",
   "metadata": {},
   "outputs": [],
   "source": [
    "y = np.random.randint(1,10, (3,3))"
   ]
  },
  {
   "cell_type": "code",
   "execution_count": 31,
   "id": "978446de-d4ab-4139-85e8-2a87d854ea7b",
   "metadata": {},
   "outputs": [
    {
     "data": {
      "text/plain": [
       "array([[77, 49, 40],\n",
       "       [59, 51, 36],\n",
       "       [87, 61, 49]], dtype=int32)"
      ]
     },
     "execution_count": 31,
     "metadata": {},
     "output_type": "execute_result"
    }
   ],
   "source": [
    "x.dot(y)"
   ]
  },
  {
   "cell_type": "markdown",
   "id": "ede21060-c604-489c-8f1a-0d02787a7b42",
   "metadata": {},
   "source": [
    "#### Solving linear algebra"
   ]
  },
  {
   "cell_type": "code",
   "execution_count": 32,
   "id": "a0280553-7ac6-4bf8-97af-dd9cba6a4c07",
   "metadata": {},
   "outputs": [],
   "source": [
    "arr = np.array([\n",
    "    [1, 3, -1],\n",
    "    [2, -1, 6],\n",
    "    [1, 1, -2]\n",
    "])"
   ]
  },
  {
   "cell_type": "code",
   "execution_count": 33,
   "id": "636171e6-40c0-41ff-8a3e-fe90945589c6",
   "metadata": {},
   "outputs": [],
   "source": [
    "c = np.array([10, 3, 5])"
   ]
  },
  {
   "cell_type": "code",
   "execution_count": 34,
   "id": "de047632-146e-4243-8c67-6fe169433c1c",
   "metadata": {},
   "outputs": [],
   "source": [
    "inv = np.linalg.inv(arr)"
   ]
  },
  {
   "cell_type": "code",
   "execution_count": 35,
   "id": "ca5355f2-63b3-4600-9df2-77b64543a498",
   "metadata": {},
   "outputs": [
    {
     "data": {
      "text/plain": [
       "array([[-0.17391304,  0.2173913 ,  0.73913043],\n",
       "       [ 0.43478261, -0.04347826, -0.34782609],\n",
       "       [ 0.13043478,  0.08695652, -0.30434783]])"
      ]
     },
     "execution_count": 35,
     "metadata": {},
     "output_type": "execute_result"
    }
   ],
   "source": [
    "inv"
   ]
  },
  {
   "cell_type": "code",
   "execution_count": 37,
   "id": "daf90493-bedf-426c-b8cb-13241edd9c67",
   "metadata": {},
   "outputs": [
    {
     "data": {
      "text/plain": [
       "array([2.60869565, 2.47826087, 0.04347826])"
      ]
     },
     "execution_count": 37,
     "metadata": {},
     "output_type": "execute_result"
    }
   ],
   "source": [
    "inv.dot(c)"
   ]
  },
  {
   "cell_type": "markdown",
   "id": "d9f27567-5040-495b-9021-dca3f66474f4",
   "metadata": {},
   "source": [
    "## Eigen values eigen vectors"
   ]
  },
  {
   "cell_type": "code",
   "execution_count": 38,
   "id": "2e632fda-3800-4c6d-9d26-cd15349d557f",
   "metadata": {},
   "outputs": [
    {
     "data": {
      "text/plain": [
       "array([[ 1,  3, -1],\n",
       "       [ 2, -1,  6],\n",
       "       [ 1,  1, -2]])"
      ]
     },
     "execution_count": 38,
     "metadata": {},
     "output_type": "execute_result"
    }
   ],
   "source": [
    "arr"
   ]
  },
  {
   "cell_type": "code",
   "execution_count": 40,
   "id": "8e4e2e1f-5151-4320-bb32-b0af0ca1e0c5",
   "metadata": {},
   "outputs": [],
   "source": [
    "a,b = np.linalg.eig(arr)"
   ]
  },
  {
   "cell_type": "code",
   "execution_count": 43,
   "id": "e1d3d0ef-3b67-4bfe-8cfe-8926b3e2aa40",
   "metadata": {},
   "outputs": [
    {
     "data": {
      "text/plain": [
       "EigResult(eigenvalues=array([ 3.43745406, -1.88178131, -3.55567275]), eigenvectors=array([[-0.70842155, -0.69381923,  0.56688047],\n",
       "       [-0.65943569,  0.70884468, -0.80896854],\n",
       "       [-0.25156208,  0.12709875,  0.15561632]]))"
      ]
     },
     "execution_count": 43,
     "metadata": {},
     "output_type": "execute_result"
    }
   ],
   "source": [
    "np.linalg.eig(arr)"
   ]
  },
  {
   "cell_type": "code",
   "execution_count": 41,
   "id": "eaa7554d-3668-4adb-91a9-49100acbff07",
   "metadata": {},
   "outputs": [
    {
     "data": {
      "text/plain": [
       "array([ 3.43745406, -1.88178131, -3.55567275])"
      ]
     },
     "execution_count": 41,
     "metadata": {},
     "output_type": "execute_result"
    }
   ],
   "source": [
    "a"
   ]
  },
  {
   "cell_type": "code",
   "execution_count": 42,
   "id": "9a1785b5-ff25-4011-9224-bd46f00cba23",
   "metadata": {},
   "outputs": [
    {
     "data": {
      "text/plain": [
       "array([[-0.70842155, -0.69381923,  0.56688047],\n",
       "       [-0.65943569,  0.70884468, -0.80896854],\n",
       "       [-0.25156208,  0.12709875,  0.15561632]])"
      ]
     },
     "execution_count": 42,
     "metadata": {},
     "output_type": "execute_result"
    }
   ],
   "source": [
    "b"
   ]
  },
  {
   "cell_type": "markdown",
   "id": "39dd08fe-e96c-4fec-805d-23e570ff8c0f",
   "metadata": {},
   "source": [
    "## basic operations"
   ]
  },
  {
   "cell_type": "code",
   "execution_count": 44,
   "id": "78d29955-df1e-4bfb-a68d-a2622b67193b",
   "metadata": {},
   "outputs": [
    {
     "data": {
      "text/plain": [
       "array([[ 1,  3, -1],\n",
       "       [ 2, -1,  6],\n",
       "       [ 1,  1, -2]])"
      ]
     },
     "execution_count": 44,
     "metadata": {},
     "output_type": "execute_result"
    }
   ],
   "source": [
    "arr"
   ]
  },
  {
   "cell_type": "code",
   "execution_count": 45,
   "id": "fb724c66-c3d7-460a-b4ce-14457c8c0b26",
   "metadata": {},
   "outputs": [
    {
     "data": {
      "text/plain": [
       "np.int64(10)"
      ]
     },
     "execution_count": 45,
     "metadata": {},
     "output_type": "execute_result"
    }
   ],
   "source": [
    "np.sum(arr)"
   ]
  },
  {
   "cell_type": "code",
   "execution_count": 46,
   "id": "ca8fc688-8b31-48f3-baa2-ac47916a0ef0",
   "metadata": {},
   "outputs": [
    {
     "data": {
      "text/plain": [
       "np.float64(1.1111111111111112)"
      ]
     },
     "execution_count": 46,
     "metadata": {},
     "output_type": "execute_result"
    }
   ],
   "source": [
    "np.mean(arr)"
   ]
  },
  {
   "cell_type": "code",
   "execution_count": 47,
   "id": "19b63054-397d-4d10-a5bb-c6c83ebec6ca",
   "metadata": {},
   "outputs": [
    {
     "data": {
      "text/plain": [
       "np.float64(1.0)"
      ]
     },
     "execution_count": 47,
     "metadata": {},
     "output_type": "execute_result"
    }
   ],
   "source": [
    "np.median(arr)"
   ]
  },
  {
   "cell_type": "code",
   "execution_count": 48,
   "id": "bba3fbf4-84fd-4ee1-9587-f6172acd748a",
   "metadata": {},
   "outputs": [
    {
     "data": {
      "text/plain": [
       "np.int64(-2)"
      ]
     },
     "execution_count": 48,
     "metadata": {},
     "output_type": "execute_result"
    }
   ],
   "source": [
    "np.min(arr)"
   ]
  },
  {
   "cell_type": "code",
   "execution_count": 49,
   "id": "29634621-c703-4e5a-8f90-a827f6b76b0c",
   "metadata": {},
   "outputs": [
    {
     "data": {
      "text/plain": [
       "np.int64(6)"
      ]
     },
     "execution_count": 49,
     "metadata": {},
     "output_type": "execute_result"
    }
   ],
   "source": [
    "np.max(arr)"
   ]
  },
  {
   "cell_type": "code",
   "execution_count": 50,
   "id": "dd858ccb-e78a-4c16-88f2-fb283d36f10c",
   "metadata": {},
   "outputs": [
    {
     "data": {
      "text/plain": [
       "np.int64(8)"
      ]
     },
     "execution_count": 50,
     "metadata": {},
     "output_type": "execute_result"
    }
   ],
   "source": [
    "np.argmin(arr) # find position of minimum element"
   ]
  },
  {
   "cell_type": "code",
   "execution_count": 51,
   "id": "8f5ce49d-4957-40d6-b472-e76224f8b926",
   "metadata": {},
   "outputs": [
    {
     "data": {
      "text/plain": [
       "np.int64(5)"
      ]
     },
     "execution_count": 51,
     "metadata": {},
     "output_type": "execute_result"
    }
   ],
   "source": [
    "np.argmax(arr) # find position of maximum element"
   ]
  },
  {
   "cell_type": "code",
   "execution_count": null,
   "id": "07432ac1-8c74-416d-890d-ffea820b7727",
   "metadata": {},
   "outputs": [],
   "source": []
  }
 ],
 "metadata": {
  "kernelspec": {
   "display_name": "Python [conda env:base] *",
   "language": "python",
   "name": "conda-base-py"
  },
  "language_info": {
   "codemirror_mode": {
    "name": "ipython",
    "version": 3
   },
   "file_extension": ".py",
   "mimetype": "text/x-python",
   "name": "python",
   "nbconvert_exporter": "python",
   "pygments_lexer": "ipython3",
   "version": "3.13.5"
  }
 },
 "nbformat": 4,
 "nbformat_minor": 5
}
