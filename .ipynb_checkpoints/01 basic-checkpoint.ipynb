{
 "cells": [
  {
   "cell_type": "markdown",
   "id": "e37737b7-1719-4e33-9755-bc6f14343279",
   "metadata": {},
   "source": [
    "### Install numpy"
   ]
  },
  {
   "cell_type": "code",
   "execution_count": 1,
   "id": "f70ce438-0d0d-4f85-bd21-405e234aa782",
   "metadata": {},
   "outputs": [
    {
     "name": "stdout",
     "output_type": "stream",
     "text": [
      "Requirement already satisfied: numpy in c:\\users\\diksha\\anaconda3\\lib\\site-packages (2.1.3)\n",
      "Note: you may need to restart the kernel to use updated packages.\n"
     ]
    }
   ],
   "source": [
    "pip install numpy"
   ]
  },
  {
   "cell_type": "code",
   "execution_count": 2,
   "id": "585cb073-5975-4823-8130-d5e54c04b248",
   "metadata": {},
   "outputs": [],
   "source": [
    "import numpy as np"
   ]
  },
  {
   "cell_type": "code",
   "execution_count": 3,
   "id": "dc4bd162-71e4-43da-aa5a-b0f199713bc2",
   "metadata": {},
   "outputs": [],
   "source": [
    "numList = [5,1,2,3]"
   ]
  },
  {
   "cell_type": "code",
   "execution_count": 4,
   "id": "f8ccbe69-6e35-483c-bcce-25dc4725ee05",
   "metadata": {},
   "outputs": [],
   "source": [
    "floatList = [5.3, 1.1, 3.4]"
   ]
  },
  {
   "cell_type": "code",
   "execution_count": 5,
   "id": "4f37c1ec-58ec-41a5-8131-54621e6493d9",
   "metadata": {},
   "outputs": [],
   "source": [
    "textList = ['kanu','gurleen', 'pratham','utkarsh','akarsh']"
   ]
  },
  {
   "cell_type": "code",
   "execution_count": 6,
   "id": "b2e260a7-41da-4696-81db-747de3d50731",
   "metadata": {},
   "outputs": [],
   "source": [
    "boolList = [True, False, True]"
   ]
  },
  {
   "cell_type": "code",
   "execution_count": 8,
   "id": "68eace7c-1964-4149-aa70-b302a3fc6ed6",
   "metadata": {},
   "outputs": [],
   "source": [
    "numArr = np.array(numList)"
   ]
  },
  {
   "cell_type": "code",
   "execution_count": 18,
   "id": "03abaffd-decb-436b-b2e6-c465a78f1d61",
   "metadata": {},
   "outputs": [
    {
     "data": {
      "text/plain": [
       "dtype('int64')"
      ]
     },
     "execution_count": 18,
     "metadata": {},
     "output_type": "execute_result"
    }
   ],
   "source": [
    "numArr.dtype"
   ]
  },
  {
   "cell_type": "code",
   "execution_count": null,
   "id": "7525d9cc-d7e0-4c16-bcb0-9270ac62616f",
   "metadata": {},
   "outputs": [],
   "source": [
    "numArr"
   ]
  },
  {
   "cell_type": "code",
   "execution_count": 10,
   "id": "11d4f6f3-feb0-43bc-956c-73d86df55035",
   "metadata": {},
   "outputs": [
    {
     "name": "stdout",
     "output_type": "stream",
     "text": [
      "[5 1 2 3]\n"
     ]
    }
   ],
   "source": [
    "print(numArr)"
   ]
  },
  {
   "cell_type": "code",
   "execution_count": 12,
   "id": "e37f0c99-cffa-4ee1-8b11-f356edca9581",
   "metadata": {},
   "outputs": [],
   "source": [
    "floatArr = np.array(floatList)"
   ]
  },
  {
   "cell_type": "code",
   "execution_count": 13,
   "id": "288344b0-a6a7-42f8-8b4a-448db2d8c8ad",
   "metadata": {},
   "outputs": [
    {
     "name": "stdout",
     "output_type": "stream",
     "text": [
      "[5.3 1.1 3.4]\n"
     ]
    }
   ],
   "source": [
    "print(floatArr)"
   ]
  },
  {
   "cell_type": "code",
   "execution_count": 17,
   "id": "f5b5f6e9-2b68-439d-84c0-ed15ac66d81f",
   "metadata": {},
   "outputs": [
    {
     "data": {
      "text/plain": [
       "dtype('float64')"
      ]
     },
     "execution_count": 17,
     "metadata": {},
     "output_type": "execute_result"
    }
   ],
   "source": [
    "floatArr.dtype"
   ]
  },
  {
   "cell_type": "code",
   "execution_count": 14,
   "id": "7c7fca14-de03-4381-ba32-55d77dbd535d",
   "metadata": {},
   "outputs": [
    {
     "data": {
      "text/plain": [
       "array([5.3, 1.1, 3.4])"
      ]
     },
     "execution_count": 14,
     "metadata": {},
     "output_type": "execute_result"
    }
   ],
   "source": [
    "floatArr"
   ]
  },
  {
   "cell_type": "code",
   "execution_count": 15,
   "id": "7c50df51-8fa1-4d60-b855-8ece212d9bff",
   "metadata": {},
   "outputs": [],
   "source": [
    "textArr = np.array(textList)"
   ]
  },
  {
   "cell_type": "code",
   "execution_count": 16,
   "id": "a2af7501-e5f5-4e71-a774-52c70987ee49",
   "metadata": {},
   "outputs": [
    {
     "data": {
      "text/plain": [
       "array(['kanu', 'gurleen', 'pratham', 'utkarsh', 'akarsh'], dtype='<U7')"
      ]
     },
     "execution_count": 16,
     "metadata": {},
     "output_type": "execute_result"
    }
   ],
   "source": [
    "textArr"
   ]
  },
  {
   "cell_type": "code",
   "execution_count": 19,
   "id": "d4033805-971a-499d-8f69-32b12390d018",
   "metadata": {},
   "outputs": [],
   "source": [
    "boolArr = np.array(boolList)"
   ]
  },
  {
   "cell_type": "code",
   "execution_count": 20,
   "id": "123ce020-5bb2-4629-a6da-677d92bbf9d4",
   "metadata": {},
   "outputs": [
    {
     "data": {
      "text/plain": [
       "array([ True, False,  True])"
      ]
     },
     "execution_count": 20,
     "metadata": {},
     "output_type": "execute_result"
    }
   ],
   "source": [
    "boolArr"
   ]
  },
  {
   "cell_type": "code",
   "execution_count": 21,
   "id": "87238de9-3a30-45d0-9132-8775ea96319b",
   "metadata": {},
   "outputs": [
    {
     "name": "stdout",
     "output_type": "stream",
     "text": [
      "[ True False  True]\n"
     ]
    }
   ],
   "source": [
    "print(boolArr)"
   ]
  },
  {
   "cell_type": "code",
   "execution_count": 22,
   "id": "45551a7a-b108-423d-bfd0-6e9411fea3bd",
   "metadata": {},
   "outputs": [
    {
     "data": {
      "text/plain": [
       "dtype('bool')"
      ]
     },
     "execution_count": 22,
     "metadata": {},
     "output_type": "execute_result"
    }
   ],
   "source": [
    "boolArr.dtype"
   ]
  },
  {
   "cell_type": "code",
   "execution_count": 23,
   "id": "f374ac7b-6413-453a-8283-08fc5b34834b",
   "metadata": {},
   "outputs": [
    {
     "data": {
      "text/plain": [
       "array(['5', '6.3', 'True', 'kanu'], dtype='<U32')"
      ]
     },
     "execution_count": 23,
     "metadata": {},
     "output_type": "execute_result"
    }
   ],
   "source": [
    "np.array([5,6.3, True, \"kanu\"])"
   ]
  },
  {
   "cell_type": "code",
   "execution_count": null,
   "id": "03ccc64c-29c5-4b33-9e27-c60ef5d44da4",
   "metadata": {},
   "outputs": [],
   "source": []
  },
  {
   "cell_type": "code",
   "execution_count": 24,
   "id": "05d5a660-cbd8-4e04-b279-8b4d2503042a",
   "metadata": {},
   "outputs": [],
   "source": [
    "arr = np.array([9,3,4,5,7,111,3])"
   ]
  },
  {
   "cell_type": "code",
   "execution_count": 25,
   "id": "146c0976-4699-4ab8-a594-e7af44cbc03c",
   "metadata": {},
   "outputs": [
    {
     "data": {
      "text/plain": [
       "array([  9,   3,   4,   5,   7, 111,   3])"
      ]
     },
     "execution_count": 25,
     "metadata": {},
     "output_type": "execute_result"
    }
   ],
   "source": [
    "arr"
   ]
  },
  {
   "cell_type": "code",
   "execution_count": 26,
   "id": "6b2c1d7d-fbba-469f-8271-1ca506f3d790",
   "metadata": {},
   "outputs": [
    {
     "name": "stdout",
     "output_type": "stream",
     "text": [
      "[  9   3   4   5   7 111   3]\n"
     ]
    }
   ],
   "source": [
    "print(arr)"
   ]
  },
  {
   "cell_type": "code",
   "execution_count": 27,
   "id": "81131c39-e85e-4868-ad37-e69488c38724",
   "metadata": {},
   "outputs": [
    {
     "data": {
      "text/plain": [
       "1"
      ]
     },
     "execution_count": 27,
     "metadata": {},
     "output_type": "execute_result"
    }
   ],
   "source": [
    "arr.ndim #dimensions"
   ]
  },
  {
   "cell_type": "markdown",
   "id": "db75e025-149e-4dcd-a225-26d9796cbfa8",
   "metadata": {},
   "source": [
    "##### Scaler value jinki dimension zero hoti hai"
   ]
  },
  {
   "cell_type": "code",
   "execution_count": 28,
   "id": "4c952f42-c511-4035-87a0-d6e3a62a5098",
   "metadata": {},
   "outputs": [],
   "source": [
    "scaler = np.array(5)"
   ]
  },
  {
   "cell_type": "code",
   "execution_count": 29,
   "id": "218286e8-2247-4822-ad38-8e66e11f2f28",
   "metadata": {},
   "outputs": [
    {
     "data": {
      "text/plain": [
       "array(5)"
      ]
     },
     "execution_count": 29,
     "metadata": {},
     "output_type": "execute_result"
    }
   ],
   "source": [
    "scaler"
   ]
  },
  {
   "cell_type": "code",
   "execution_count": 30,
   "id": "3b574ac7-3e1d-4b98-9ccc-4ccd16b525ab",
   "metadata": {},
   "outputs": [
    {
     "name": "stdout",
     "output_type": "stream",
     "text": [
      "5\n"
     ]
    }
   ],
   "source": [
    "print(scaler)"
   ]
  },
  {
   "cell_type": "code",
   "execution_count": 31,
   "id": "ea9d0c44-4cba-45ed-b532-5881119e3ff7",
   "metadata": {},
   "outputs": [
    {
     "data": {
      "text/plain": [
       "dtype('int64')"
      ]
     },
     "execution_count": 31,
     "metadata": {},
     "output_type": "execute_result"
    }
   ],
   "source": [
    "scaler.dtype"
   ]
  },
  {
   "cell_type": "code",
   "execution_count": 32,
   "id": "66f2ad44-f7dc-41e6-b78e-2f4ceb09ff43",
   "metadata": {},
   "outputs": [
    {
     "data": {
      "text/plain": [
       "()"
      ]
     },
     "execution_count": 32,
     "metadata": {},
     "output_type": "execute_result"
    }
   ],
   "source": [
    "scaler.shape"
   ]
  },
  {
   "cell_type": "code",
   "execution_count": 33,
   "id": "8d6977a3-26d9-46d0-8c2c-092eee2ca953",
   "metadata": {},
   "outputs": [
    {
     "data": {
      "text/plain": [
       "1"
      ]
     },
     "execution_count": 33,
     "metadata": {},
     "output_type": "execute_result"
    }
   ],
   "source": [
    "scaler.size"
   ]
  },
  {
   "cell_type": "code",
   "execution_count": 34,
   "id": "6fe43ca4-efb4-4925-b0f9-aa01a4538112",
   "metadata": {},
   "outputs": [
    {
     "data": {
      "text/plain": [
       "0"
      ]
     },
     "execution_count": 34,
     "metadata": {},
     "output_type": "execute_result"
    }
   ],
   "source": [
    "scaler.ndim"
   ]
  },
  {
   "cell_type": "markdown",
   "id": "9e14f714-d5c8-450d-997f-176909c4785a",
   "metadata": {},
   "source": [
    "## Vector one dimensional array"
   ]
  },
  {
   "cell_type": "code",
   "execution_count": 35,
   "id": "b33887aa-f95f-4bf8-ab44-7ebcac4ec888",
   "metadata": {},
   "outputs": [],
   "source": [
    "vector = np.array([5,2,3,5])"
   ]
  },
  {
   "cell_type": "code",
   "execution_count": 36,
   "id": "4c5e240d-3b70-49c2-98bb-04a650052b3d",
   "metadata": {},
   "outputs": [
    {
     "data": {
      "text/plain": [
       "array([5, 2, 3, 5])"
      ]
     },
     "execution_count": 36,
     "metadata": {},
     "output_type": "execute_result"
    }
   ],
   "source": [
    "vector"
   ]
  },
  {
   "cell_type": "code",
   "execution_count": 37,
   "id": "f61609c8-d81b-4b99-822f-f31c3582ad7c",
   "metadata": {},
   "outputs": [
    {
     "name": "stdout",
     "output_type": "stream",
     "text": [
      "[5 2 3 5]\n"
     ]
    }
   ],
   "source": [
    "print(vector)"
   ]
  },
  {
   "cell_type": "code",
   "execution_count": 38,
   "id": "0d954a01-2950-48cd-919a-4a1488b68fe6",
   "metadata": {},
   "outputs": [
    {
     "data": {
      "text/plain": [
       "1"
      ]
     },
     "execution_count": 38,
     "metadata": {},
     "output_type": "execute_result"
    }
   ],
   "source": [
    "vector.ndim"
   ]
  },
  {
   "cell_type": "code",
   "execution_count": 39,
   "id": "f06bf364-2b56-40f8-9f6f-0108917b9868",
   "metadata": {},
   "outputs": [
    {
     "data": {
      "text/plain": [
       "4"
      ]
     },
     "execution_count": 39,
     "metadata": {},
     "output_type": "execute_result"
    }
   ],
   "source": [
    "vector.size"
   ]
  },
  {
   "cell_type": "code",
   "execution_count": 40,
   "id": "cc274ecb-82d8-47c4-a5b4-1c4af6d996c9",
   "metadata": {},
   "outputs": [
    {
     "data": {
      "text/plain": [
       "(4,)"
      ]
     },
     "execution_count": 40,
     "metadata": {},
     "output_type": "execute_result"
    }
   ],
   "source": [
    "vector.shape"
   ]
  },
  {
   "cell_type": "markdown",
   "id": "f11344e4-0225-47ad-b66c-34b312a80d6d",
   "metadata": {},
   "source": [
    "### matrix collections of vectors"
   ]
  },
  {
   "cell_type": "code",
   "execution_count": 46,
   "id": "73ca02a6-bafe-43a8-9395-bac1f434bb2c",
   "metadata": {},
   "outputs": [],
   "source": [
    "matrix = np.array(\n",
    "    [\n",
    "        [1,2,3],\n",
    "        [4,5,6],\n",
    "        [7,8,9]\n",
    "    ])"
   ]
  },
  {
   "cell_type": "code",
   "execution_count": 45,
   "id": "2c5e29db-477a-43d6-9a8c-986343e1e259",
   "metadata": {},
   "outputs": [
    {
     "data": {
      "text/plain": [
       "array([[1, 2, 3],\n",
       "       [4, 5, 6],\n",
       "       [7, 8, 9]])"
      ]
     },
     "execution_count": 45,
     "metadata": {},
     "output_type": "execute_result"
    }
   ],
   "source": [
    "matrix"
   ]
  },
  {
   "cell_type": "code",
   "execution_count": 47,
   "id": "739130cc-7d9b-4d10-aba3-aeddb9f6797a",
   "metadata": {},
   "outputs": [
    {
     "name": "stdout",
     "output_type": "stream",
     "text": [
      "[[1 2 3]\n",
      " [4 5 6]\n",
      " [7 8 9]]\n"
     ]
    }
   ],
   "source": [
    "print(matrix)"
   ]
  },
  {
   "cell_type": "code",
   "execution_count": 48,
   "id": "251de9d3-5b0d-4c5e-ab1d-e71af6bf977e",
   "metadata": {},
   "outputs": [
    {
     "data": {
      "text/plain": [
       "2"
      ]
     },
     "execution_count": 48,
     "metadata": {},
     "output_type": "execute_result"
    }
   ],
   "source": [
    "matrix.ndim"
   ]
  },
  {
   "cell_type": "code",
   "execution_count": 50,
   "id": "2275ec8a-b46b-4e11-aae6-7cd016de5381",
   "metadata": {},
   "outputs": [
    {
     "data": {
      "text/plain": [
       "9"
      ]
     },
     "execution_count": 50,
     "metadata": {},
     "output_type": "execute_result"
    }
   ],
   "source": [
    "matrix.size"
   ]
  },
  {
   "cell_type": "code",
   "execution_count": 51,
   "id": "439c20fe-1a92-4bf9-b65c-81d6553d8504",
   "metadata": {},
   "outputs": [
    {
     "data": {
      "text/plain": [
       "(3, 3)"
      ]
     },
     "execution_count": 51,
     "metadata": {},
     "output_type": "execute_result"
    }
   ],
   "source": [
    "matrix.shape"
   ]
  },
  {
   "cell_type": "code",
   "execution_count": 52,
   "id": "1ddd6bb3-0991-4646-b588-0393efa5ddf2",
   "metadata": {},
   "outputs": [],
   "source": [
    "matrix = np.array(\n",
    "    [\n",
    "        [1,2,3,4],\n",
    "        [5,6,7,8],\n",
    "        [9,10,11,12]\n",
    "    ]\n",
    "    )"
   ]
  },
  {
   "cell_type": "code",
   "execution_count": 53,
   "id": "812a72e4-384d-43de-97b2-d61146a98791",
   "metadata": {},
   "outputs": [
    {
     "data": {
      "text/plain": [
       "array([[ 1,  2,  3,  4],\n",
       "       [ 5,  6,  7,  8],\n",
       "       [ 9, 10, 11, 12]])"
      ]
     },
     "execution_count": 53,
     "metadata": {},
     "output_type": "execute_result"
    }
   ],
   "source": [
    "matrix"
   ]
  },
  {
   "cell_type": "code",
   "execution_count": 54,
   "id": "071d5900-776d-41ee-a3b9-357e58c2f07d",
   "metadata": {},
   "outputs": [
    {
     "name": "stdout",
     "output_type": "stream",
     "text": [
      "[[ 1  2  3  4]\n",
      " [ 5  6  7  8]\n",
      " [ 9 10 11 12]]\n"
     ]
    }
   ],
   "source": [
    "print(matrix)"
   ]
  },
  {
   "cell_type": "code",
   "execution_count": 55,
   "id": "046623a0-d9ba-4618-8efa-1af4a3319d4b",
   "metadata": {},
   "outputs": [
    {
     "data": {
      "text/plain": [
       "2"
      ]
     },
     "execution_count": 55,
     "metadata": {},
     "output_type": "execute_result"
    }
   ],
   "source": [
    "matrix.ndim"
   ]
  },
  {
   "cell_type": "code",
   "execution_count": 56,
   "id": "6a7f5975-472b-4b79-9b6d-6a0202f0e415",
   "metadata": {},
   "outputs": [
    {
     "data": {
      "text/plain": [
       "12"
      ]
     },
     "execution_count": 56,
     "metadata": {},
     "output_type": "execute_result"
    }
   ],
   "source": [
    "matrix.size"
   ]
  },
  {
   "cell_type": "code",
   "execution_count": 58,
   "id": "5d95ac9a-a2d9-426e-9847-8128e4ae8ed6",
   "metadata": {},
   "outputs": [
    {
     "data": {
      "text/plain": [
       "(3, 4)"
      ]
     },
     "execution_count": 58,
     "metadata": {},
     "output_type": "execute_result"
    }
   ],
   "source": [
    "matrix.shape   # 3 rows 4 columns"
   ]
  },
  {
   "cell_type": "code",
   "execution_count": 59,
   "id": "a1d5762d-fea4-48a8-af84-e1650c75d5b1",
   "metadata": {},
   "outputs": [],
   "source": [
    "# collections of matrix called tensor flow"
   ]
  },
  {
   "cell_type": "markdown",
   "id": "64b58a93-60d3-4cef-aa3e-10d4a243c7b0",
   "metadata": {},
   "source": [
    "### Tensor"
   ]
  },
  {
   "cell_type": "code",
   "execution_count": 69,
   "id": "a8b91572-ee01-4a63-89fa-96c59a966713",
   "metadata": {},
   "outputs": [],
   "source": [
    "tensor = np.array([\n",
    "    [\n",
    "        [1,2],\n",
    "        [3,4]    \n",
    "    ],\n",
    "    [\n",
    "        [5,6],\n",
    "        [7,8]\n",
    "    ],\n",
    "    [\n",
    "        [9,10],\n",
    "        [11,12]\n",
    "    ]\n",
    "])"
   ]
  },
  {
   "cell_type": "code",
   "execution_count": 70,
   "id": "f493a232-c19f-43db-8000-659c73a8b223",
   "metadata": {},
   "outputs": [
    {
     "name": "stdout",
     "output_type": "stream",
     "text": [
      "[[[ 1  2]\n",
      "  [ 3  4]]\n",
      "\n",
      " [[ 5  6]\n",
      "  [ 7  8]]\n",
      "\n",
      " [[ 9 10]\n",
      "  [11 12]]]\n"
     ]
    }
   ],
   "source": [
    "print(tensor)"
   ]
  },
  {
   "cell_type": "code",
   "execution_count": 71,
   "id": "88b3b140-7dc5-4491-91bd-371c8ef8ba0c",
   "metadata": {},
   "outputs": [
    {
     "data": {
      "text/plain": [
       "3"
      ]
     },
     "execution_count": 71,
     "metadata": {},
     "output_type": "execute_result"
    }
   ],
   "source": [
    "tensor.ndim"
   ]
  },
  {
   "cell_type": "code",
   "execution_count": 72,
   "id": "cdb78c52-96f5-438c-a167-a34d92aafbc2",
   "metadata": {},
   "outputs": [
    {
     "data": {
      "text/plain": [
       "12"
      ]
     },
     "execution_count": 72,
     "metadata": {},
     "output_type": "execute_result"
    }
   ],
   "source": [
    "tensor.size # total number of items"
   ]
  },
  {
   "cell_type": "code",
   "execution_count": 73,
   "id": "e905e1ed-3646-40fc-86ac-3d714e523000",
   "metadata": {},
   "outputs": [
    {
     "data": {
      "text/plain": [
       "(3, 2, 2)"
      ]
     },
     "execution_count": 73,
     "metadata": {},
     "output_type": "execute_result"
    }
   ],
   "source": [
    "tensor.shape"
   ]
  },
  {
   "cell_type": "markdown",
   "id": "534e7e51-ff42-4209-9e3b-4f4476038c6d",
   "metadata": {},
   "source": [
    "### Re shape"
   ]
  },
  {
   "cell_type": "code",
   "execution_count": 74,
   "id": "8c97c6b7-ce98-4d17-8283-ba6cdffa9a1c",
   "metadata": {},
   "outputs": [],
   "source": [
    "arr = np.array([1,2,3,4,5,6,7,8,9,10,11,12])"
   ]
  },
  {
   "cell_type": "code",
   "execution_count": 75,
   "id": "8b3996e7-ff12-4579-989b-5141ddbbd98f",
   "metadata": {},
   "outputs": [
    {
     "data": {
      "text/plain": [
       "dtype('int64')"
      ]
     },
     "execution_count": 75,
     "metadata": {},
     "output_type": "execute_result"
    }
   ],
   "source": [
    "arr.dtype"
   ]
  },
  {
   "cell_type": "code",
   "execution_count": 76,
   "id": "0c49b456-cd43-42c6-98aa-37d932461ec4",
   "metadata": {},
   "outputs": [
    {
     "data": {
      "text/plain": [
       "(12,)"
      ]
     },
     "execution_count": 76,
     "metadata": {},
     "output_type": "execute_result"
    }
   ],
   "source": [
    "arr.shape"
   ]
  },
  {
   "cell_type": "code",
   "execution_count": 77,
   "id": "accf17e3-4e29-48bf-b7a4-0765d6c10881",
   "metadata": {},
   "outputs": [
    {
     "data": {
      "text/plain": [
       "12"
      ]
     },
     "execution_count": 77,
     "metadata": {},
     "output_type": "execute_result"
    }
   ],
   "source": [
    "arr.size"
   ]
  },
  {
   "cell_type": "code",
   "execution_count": 78,
   "id": "64edfe86-003a-4d6d-b253-d5366875b70a",
   "metadata": {},
   "outputs": [
    {
     "data": {
      "text/plain": [
       "1"
      ]
     },
     "execution_count": 78,
     "metadata": {},
     "output_type": "execute_result"
    }
   ],
   "source": [
    "arr.ndim"
   ]
  },
  {
   "cell_type": "code",
   "execution_count": 79,
   "id": "ce41511c-df08-4e77-9ef6-d275f9fcc7d1",
   "metadata": {},
   "outputs": [
    {
     "data": {
      "text/plain": [
       "array([[ 1,  2,  3,  4,  5,  6,  7,  8,  9, 10, 11, 12]])"
      ]
     },
     "execution_count": 79,
     "metadata": {},
     "output_type": "execute_result"
    }
   ],
   "source": [
    "arr.reshape(1,12)"
   ]
  },
  {
   "cell_type": "code",
   "execution_count": 80,
   "id": "c22964cc-f3e4-4a38-b2bb-d7c21e41b36a",
   "metadata": {},
   "outputs": [
    {
     "data": {
      "text/plain": [
       "array([ 1,  2,  3,  4,  5,  6,  7,  8,  9, 10, 11, 12])"
      ]
     },
     "execution_count": 80,
     "metadata": {},
     "output_type": "execute_result"
    }
   ],
   "source": [
    "arr.reshape(12)"
   ]
  },
  {
   "cell_type": "code",
   "execution_count": 81,
   "id": "c4e31e4c-e71b-4c58-a1ac-8c4e37fc0b3d",
   "metadata": {},
   "outputs": [
    {
     "data": {
      "text/plain": [
       "array([[ 1],\n",
       "       [ 2],\n",
       "       [ 3],\n",
       "       [ 4],\n",
       "       [ 5],\n",
       "       [ 6],\n",
       "       [ 7],\n",
       "       [ 8],\n",
       "       [ 9],\n",
       "       [10],\n",
       "       [11],\n",
       "       [12]])"
      ]
     },
     "execution_count": 81,
     "metadata": {},
     "output_type": "execute_result"
    }
   ],
   "source": [
    "arr.reshape(12,1)"
   ]
  },
  {
   "cell_type": "code",
   "execution_count": 82,
   "id": "7264f72a-9e47-41c4-a1ad-441106303090",
   "metadata": {},
   "outputs": [
    {
     "data": {
      "text/plain": [
       "array([[ 1,  2],\n",
       "       [ 3,  4],\n",
       "       [ 5,  6],\n",
       "       [ 7,  8],\n",
       "       [ 9, 10],\n",
       "       [11, 12]])"
      ]
     },
     "execution_count": 82,
     "metadata": {},
     "output_type": "execute_result"
    }
   ],
   "source": [
    "arr.reshape(6,2)"
   ]
  },
  {
   "cell_type": "code",
   "execution_count": 84,
   "id": "80dcfae9-5c2d-4a8a-b25f-0286614025d6",
   "metadata": {},
   "outputs": [
    {
     "data": {
      "text/plain": [
       "array([[ 1,  2,  3,  4,  5,  6],\n",
       "       [ 7,  8,  9, 10, 11, 12]])"
      ]
     },
     "execution_count": 84,
     "metadata": {},
     "output_type": "execute_result"
    }
   ],
   "source": [
    "arr.reshape(2,6)"
   ]
  },
  {
   "cell_type": "code",
   "execution_count": 85,
   "id": "0d4244c6-8c87-49d5-bf25-6f1dc6b553e1",
   "metadata": {},
   "outputs": [
    {
     "data": {
      "text/plain": [
       "array([[[ 1,  2],\n",
       "        [ 3,  4],\n",
       "        [ 5,  6]],\n",
       "\n",
       "       [[ 7,  8],\n",
       "        [ 9, 10],\n",
       "        [11, 12]]])"
      ]
     },
     "execution_count": 85,
     "metadata": {},
     "output_type": "execute_result"
    }
   ],
   "source": [
    "arr.reshape(2,3,2)"
   ]
  },
  {
   "cell_type": "code",
   "execution_count": 86,
   "id": "ab8de575-7303-411d-a547-508983327c6f",
   "metadata": {},
   "outputs": [
    {
     "data": {
      "text/plain": [
       "array([[ 1,  2,  3,  4],\n",
       "       [ 5,  6,  7,  8],\n",
       "       [ 9, 10, 11, 12]])"
      ]
     },
     "execution_count": 86,
     "metadata": {},
     "output_type": "execute_result"
    }
   ],
   "source": [
    "arr.reshape(3,4)"
   ]
  },
  {
   "cell_type": "code",
   "execution_count": 87,
   "id": "908d2330-a57b-4349-ac69-5d38d4e57016",
   "metadata": {},
   "outputs": [
    {
     "data": {
      "text/plain": [
       "array([[ 1,  2,  3],\n",
       "       [ 4,  5,  6],\n",
       "       [ 7,  8,  9],\n",
       "       [10, 11, 12]])"
      ]
     },
     "execution_count": 87,
     "metadata": {},
     "output_type": "execute_result"
    }
   ],
   "source": [
    "arr.reshape(4,3)"
   ]
  },
  {
   "cell_type": "code",
   "execution_count": 88,
   "id": "8d285ead-e73b-4391-9c8d-1c79e636a74f",
   "metadata": {},
   "outputs": [],
   "source": [
    "arr = np.array([x for x in range(1,25)])"
   ]
  },
  {
   "cell_type": "code",
   "execution_count": 89,
   "id": "8bdb6e5c-27e3-4d9e-8a68-3c9ca2c53f83",
   "metadata": {},
   "outputs": [
    {
     "data": {
      "text/plain": [
       "array([ 1,  2,  3,  4,  5,  6,  7,  8,  9, 10, 11, 12, 13, 14, 15, 16, 17,\n",
       "       18, 19, 20, 21, 22, 23, 24])"
      ]
     },
     "execution_count": 89,
     "metadata": {},
     "output_type": "execute_result"
    }
   ],
   "source": [
    "arr"
   ]
  },
  {
   "cell_type": "code",
   "execution_count": 90,
   "id": "0de94a9c-2900-4ff7-a6cd-34b3c069a0f2",
   "metadata": {},
   "outputs": [
    {
     "data": {
      "text/plain": [
       "array([[ 1,  2,  3,  4,  5,  6],\n",
       "       [ 7,  8,  9, 10, 11, 12],\n",
       "       [13, 14, 15, 16, 17, 18],\n",
       "       [19, 20, 21, 22, 23, 24]])"
      ]
     },
     "execution_count": 90,
     "metadata": {},
     "output_type": "execute_result"
    }
   ],
   "source": [
    "arr.reshape(4, -1)"
   ]
  },
  {
   "cell_type": "code",
   "execution_count": 91,
   "id": "fbc118dd-28c1-43d8-9966-a5e41cd18175",
   "metadata": {},
   "outputs": [
    {
     "data": {
      "text/plain": [
       "array([[ 1,  2,  3],\n",
       "       [ 4,  5,  6],\n",
       "       [ 7,  8,  9],\n",
       "       [10, 11, 12],\n",
       "       [13, 14, 15],\n",
       "       [16, 17, 18],\n",
       "       [19, 20, 21],\n",
       "       [22, 23, 24]])"
      ]
     },
     "execution_count": 91,
     "metadata": {},
     "output_type": "execute_result"
    }
   ],
   "source": [
    "arr.reshape(8, -1)"
   ]
  },
  {
   "cell_type": "code",
   "execution_count": 92,
   "id": "64f3bafa-4c6c-4245-8888-0e7ea63b0fb9",
   "metadata": {},
   "outputs": [
    {
     "data": {
      "text/plain": [
       "array([[ 1,  2,  3,  4,  5,  6,  7,  8,  9, 10, 11, 12],\n",
       "       [13, 14, 15, 16, 17, 18, 19, 20, 21, 22, 23, 24]])"
      ]
     },
     "execution_count": 92,
     "metadata": {},
     "output_type": "execute_result"
    }
   ],
   "source": [
    "arr.reshape(2, -1)"
   ]
  },
  {
   "cell_type": "code",
   "execution_count": 93,
   "id": "c2029eef-4f3a-4758-99d5-e52dec2a5685",
   "metadata": {},
   "outputs": [
    {
     "data": {
      "text/plain": [
       "<function ndarray.flatten>"
      ]
     },
     "execution_count": 93,
     "metadata": {},
     "output_type": "execute_result"
    }
   ],
   "source": [
    "arr.flatten"
   ]
  },
  {
   "cell_type": "code",
   "execution_count": 94,
   "id": "e306ee6a-727b-4a0f-8c08-85634372d547",
   "metadata": {},
   "outputs": [
    {
     "data": {
      "text/plain": [
       "array([ 1,  2,  3,  4,  5,  6,  7,  8,  9, 10, 11, 12, 13, 14, 15, 16, 17,\n",
       "       18, 19, 20, 21, 22, 23, 24])"
      ]
     },
     "execution_count": 94,
     "metadata": {},
     "output_type": "execute_result"
    }
   ],
   "source": [
    "arr.reshape(-1)"
   ]
  },
  {
   "cell_type": "code",
   "execution_count": 95,
   "id": "18f3e0b0-f954-488c-ad0e-73096fc8062e",
   "metadata": {},
   "outputs": [
    {
     "data": {
      "text/plain": [
       "array([[[[ 1],\n",
       "         [ 2],\n",
       "         [ 3]],\n",
       "\n",
       "        [[ 4],\n",
       "         [ 5],\n",
       "         [ 6]],\n",
       "\n",
       "        [[ 7],\n",
       "         [ 8],\n",
       "         [ 9]],\n",
       "\n",
       "        [[10],\n",
       "         [11],\n",
       "         [12]]],\n",
       "\n",
       "\n",
       "       [[[13],\n",
       "         [14],\n",
       "         [15]],\n",
       "\n",
       "        [[16],\n",
       "         [17],\n",
       "         [18]],\n",
       "\n",
       "        [[19],\n",
       "         [20],\n",
       "         [21]],\n",
       "\n",
       "        [[22],\n",
       "         [23],\n",
       "         [24]]]])"
      ]
     },
     "execution_count": 95,
     "metadata": {},
     "output_type": "execute_result"
    }
   ],
   "source": [
    "arr.reshape(2,4,3, -1)"
   ]
  },
  {
   "cell_type": "code",
   "execution_count": null,
   "id": "bb4bb960-090f-46e2-beb4-5f1421aa67ae",
   "metadata": {},
   "outputs": [],
   "source": []
  }
 ],
 "metadata": {
  "kernelspec": {
   "display_name": "Python [conda env:base] *",
   "language": "python",
   "name": "conda-base-py"
  },
  "language_info": {
   "codemirror_mode": {
    "name": "ipython",
    "version": 3
   },
   "file_extension": ".py",
   "mimetype": "text/x-python",
   "name": "python",
   "nbconvert_exporter": "python",
   "pygments_lexer": "ipython3",
   "version": "3.13.5"
  }
 },
 "nbformat": 4,
 "nbformat_minor": 5
}
